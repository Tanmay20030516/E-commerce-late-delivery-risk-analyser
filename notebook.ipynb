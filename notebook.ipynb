{
 "cells": [
  {
   "cell_type": "markdown",
   "metadata": {
    "papermill": {
     "duration": 0.023643,
     "end_time": "2023-09-05T22:46:34.690552",
     "exception": false,
     "start_time": "2023-09-05T22:46:34.666909",
     "status": "completed"
    },
    "tags": []
   },
   "source": [
    "# E-Commerce goods shipment duration prediction and estimating late delivery risk\n",
    "\n",
    "E-commerce goods Late delivery risk identification by predicting fastest and normal Shipping Durations. The classification model built can enable E-commerce and Goods/products delivery industries to identify the **risk of late delivery** and **predict the fastest and normal duration of goods shipment** for their Inland and foreign clients/ customers/buyers.\n",
    "\n",
    "## Goal :\n",
    "*  Building a Multi-Output Decision Tree Regressor to determine the **maximum range of shipping time**, by predicting the Fastest and Normal duration for shipping of goods for both Inland and International customers.\n",
    "*  Building a Binary Classifier to **classify orders with high probabilty of late delivery** (Late Delivery Risk analyser).\n",
    "\n",
    "## Data :\n",
    "* A dataset of supply chains used by the company DataCo Global, was used for the analysis.\n",
    "* Dataset link : https://data.mendeley.com/datasets/8gx2fvg2k6/5"
   ]
  },
  {
   "cell_type": "markdown",
   "metadata": {
    "papermill": {
     "duration": 0.0188,
     "end_time": "2023-09-05T22:46:34.729090",
     "exception": false,
     "start_time": "2023-09-05T22:46:34.710290",
     "status": "completed"
    },
    "tags": []
   },
   "source": [
    "# 1. Importing libraries"
   ]
  },
  {
   "cell_type": "code",
   "execution_count": 1,
   "metadata": {
    "execution": {
     "iopub.execute_input": "2023-09-05T22:46:34.772418Z",
     "iopub.status.busy": "2023-09-05T22:46:34.771302Z",
     "iopub.status.idle": "2023-09-05T22:46:34.775788Z",
     "shell.execute_reply": "2023-09-05T22:46:34.776368Z",
     "shell.execute_reply.started": "2023-09-05T18:39:38.326776Z"
    },
    "papermill": {
     "duration": 0.027819,
     "end_time": "2023-09-05T22:46:34.776550",
     "exception": false,
     "start_time": "2023-09-05T22:46:34.748731",
     "status": "completed"
    },
    "tags": []
   },
   "outputs": [],
   "source": [
    "import warnings\n",
    "warnings.filterwarnings(\"ignore\")"
   ]
  },
  {
   "cell_type": "code",
   "execution_count": 2,
   "metadata": {
    "_cell_guid": "b1076dfc-b9ad-4769-8c92-a6c4dae69d19",
    "_uuid": "8f2839f25d086af736a60e9eeb907d3b93b6e0e5",
    "execution": {
     "iopub.execute_input": "2023-09-05T22:46:34.822117Z",
     "iopub.status.busy": "2023-09-05T22:46:34.821098Z",
     "iopub.status.idle": "2023-09-05T22:46:36.017256Z",
     "shell.execute_reply": "2023-09-05T22:46:36.016406Z",
     "shell.execute_reply.started": "2023-09-05T18:39:49.341340Z"
    },
    "papermill": {
     "duration": 1.221992,
     "end_time": "2023-09-05T22:46:36.017406",
     "exception": false,
     "start_time": "2023-09-05T22:46:34.795414",
     "status": "completed"
    },
    "tags": []
   },
   "outputs": [],
   "source": [
    "import numpy as np\n",
    "import pandas as pd\n",
    "from sklearn import preprocessing\n",
    "from sklearn import model_selection\n",
    "from sklearn.tree import DecisionTreeRegressor\n",
    "from sklearn.ensemble import RandomForestRegressor\n",
    "from sklearn.metrics import roc_auc_score,r2_score,mean_absolute_error,mean_squared_error,accuracy_score,classification_report,confusion_matrix\n",
    "import seaborn as sns\n",
    "import matplotlib.pyplot as plt"
   ]
  },
  {
   "cell_type": "markdown",
   "metadata": {
    "papermill": {
     "duration": 0.019322,
     "end_time": "2023-09-05T22:46:36.056885",
     "exception": false,
     "start_time": "2023-09-05T22:46:36.037563",
     "status": "completed"
    },
    "tags": []
   },
   "source": [
    "# 2. Viewing the dataset"
   ]
  },
  {
   "cell_type": "code",
   "execution_count": 3,
   "metadata": {
    "_cell_guid": "79c7e3d0-c299-4dcb-8224-4455121ee9b0",
    "_uuid": "d629ff2d2480ee46fbb7e2d37f6b5fab8052498a",
    "execution": {
     "iopub.execute_input": "2023-09-05T22:46:36.101577Z",
     "iopub.status.busy": "2023-09-05T22:46:36.100898Z",
     "iopub.status.idle": "2023-09-05T22:46:39.919170Z",
     "shell.execute_reply": "2023-09-05T22:46:39.918424Z",
     "shell.execute_reply.started": "2023-09-05T18:39:58.968448Z"
    },
    "papermill": {
     "duration": 3.843241,
     "end_time": "2023-09-05T22:46:39.919296",
     "exception": false,
     "start_time": "2023-09-05T22:46:36.076055",
     "status": "completed"
    },
    "tags": []
   },
   "outputs": [
    {
     "data": {
      "text/html": [
       "<div>\n",
       "<style scoped>\n",
       "    .dataframe tbody tr th:only-of-type {\n",
       "        vertical-align: middle;\n",
       "    }\n",
       "\n",
       "    .dataframe tbody tr th {\n",
       "        vertical-align: top;\n",
       "    }\n",
       "\n",
       "    .dataframe thead th {\n",
       "        text-align: right;\n",
       "    }\n",
       "</style>\n",
       "<table border=\"1\" class=\"dataframe\">\n",
       "  <thead>\n",
       "    <tr style=\"text-align: right;\">\n",
       "      <th></th>\n",
       "      <th>Type</th>\n",
       "      <th>Days for shipping (real)</th>\n",
       "      <th>Days for shipment (scheduled)</th>\n",
       "      <th>Benefit per order</th>\n",
       "      <th>Sales per customer</th>\n",
       "      <th>Delivery Status</th>\n",
       "      <th>Late_delivery_risk</th>\n",
       "      <th>Category Id</th>\n",
       "      <th>Category Name</th>\n",
       "      <th>Customer City</th>\n",
       "      <th>Customer Country</th>\n",
       "      <th>Customer Email</th>\n",
       "      <th>Customer Fname</th>\n",
       "      <th>Customer Id</th>\n",
       "      <th>Customer Lname</th>\n",
       "      <th>Customer Password</th>\n",
       "      <th>Customer Segment</th>\n",
       "      <th>Customer State</th>\n",
       "      <th>Customer Street</th>\n",
       "      <th>Customer Zipcode</th>\n",
       "      <th>Department Id</th>\n",
       "      <th>Department Name</th>\n",
       "      <th>Latitude</th>\n",
       "      <th>Longitude</th>\n",
       "      <th>Market</th>\n",
       "      <th>Order City</th>\n",
       "      <th>Order Country</th>\n",
       "      <th>Order Customer Id</th>\n",
       "      <th>order date (DateOrders)</th>\n",
       "      <th>Order Id</th>\n",
       "      <th>Order Item Cardprod Id</th>\n",
       "      <th>Order Item Discount</th>\n",
       "      <th>Order Item Discount Rate</th>\n",
       "      <th>Order Item Id</th>\n",
       "      <th>Order Item Product Price</th>\n",
       "      <th>Order Item Profit Ratio</th>\n",
       "      <th>Order Item Quantity</th>\n",
       "      <th>Sales</th>\n",
       "      <th>Order Item Total</th>\n",
       "      <th>Order Profit Per Order</th>\n",
       "      <th>Order Region</th>\n",
       "      <th>Order State</th>\n",
       "      <th>Order Status</th>\n",
       "      <th>Order Zipcode</th>\n",
       "      <th>Product Card Id</th>\n",
       "      <th>Product Category Id</th>\n",
       "      <th>Product Description</th>\n",
       "      <th>Product Image</th>\n",
       "      <th>Product Name</th>\n",
       "      <th>Product Price</th>\n",
       "      <th>Product Status</th>\n",
       "      <th>shipping date (DateOrders)</th>\n",
       "      <th>Shipping Mode</th>\n",
       "    </tr>\n",
       "  </thead>\n",
       "  <tbody>\n",
       "    <tr>\n",
       "      <th>0</th>\n",
       "      <td>DEBIT</td>\n",
       "      <td>3</td>\n",
       "      <td>4</td>\n",
       "      <td>91.250000</td>\n",
       "      <td>314.640015</td>\n",
       "      <td>Advance shipping</td>\n",
       "      <td>0</td>\n",
       "      <td>73</td>\n",
       "      <td>Sporting Goods</td>\n",
       "      <td>Caguas</td>\n",
       "      <td>Puerto Rico</td>\n",
       "      <td>XXXXXXXXX</td>\n",
       "      <td>Cally</td>\n",
       "      <td>20755</td>\n",
       "      <td>Holloway</td>\n",
       "      <td>XXXXXXXXX</td>\n",
       "      <td>Consumer</td>\n",
       "      <td>PR</td>\n",
       "      <td>5365 Noble Nectar Island</td>\n",
       "      <td>725.0</td>\n",
       "      <td>2</td>\n",
       "      <td>Fitness</td>\n",
       "      <td>18.251453</td>\n",
       "      <td>-66.037056</td>\n",
       "      <td>Pacific Asia</td>\n",
       "      <td>Bekasi</td>\n",
       "      <td>Indonesia</td>\n",
       "      <td>20755</td>\n",
       "      <td>1/31/2018 22:56</td>\n",
       "      <td>77202</td>\n",
       "      <td>1360</td>\n",
       "      <td>13.110000</td>\n",
       "      <td>0.04</td>\n",
       "      <td>180517</td>\n",
       "      <td>327.75</td>\n",
       "      <td>0.29</td>\n",
       "      <td>1</td>\n",
       "      <td>327.75</td>\n",
       "      <td>314.640015</td>\n",
       "      <td>91.250000</td>\n",
       "      <td>Southeast Asia</td>\n",
       "      <td>Java Occidental</td>\n",
       "      <td>COMPLETE</td>\n",
       "      <td>NaN</td>\n",
       "      <td>1360</td>\n",
       "      <td>73</td>\n",
       "      <td>NaN</td>\n",
       "      <td>http://images.acmesports.sports/Smart+watch</td>\n",
       "      <td>Smart watch</td>\n",
       "      <td>327.75</td>\n",
       "      <td>0</td>\n",
       "      <td>2/3/2018 22:56</td>\n",
       "      <td>Standard Class</td>\n",
       "    </tr>\n",
       "    <tr>\n",
       "      <th>1</th>\n",
       "      <td>TRANSFER</td>\n",
       "      <td>5</td>\n",
       "      <td>4</td>\n",
       "      <td>-249.089996</td>\n",
       "      <td>311.359985</td>\n",
       "      <td>Late delivery</td>\n",
       "      <td>1</td>\n",
       "      <td>73</td>\n",
       "      <td>Sporting Goods</td>\n",
       "      <td>Caguas</td>\n",
       "      <td>Puerto Rico</td>\n",
       "      <td>XXXXXXXXX</td>\n",
       "      <td>Irene</td>\n",
       "      <td>19492</td>\n",
       "      <td>Luna</td>\n",
       "      <td>XXXXXXXXX</td>\n",
       "      <td>Consumer</td>\n",
       "      <td>PR</td>\n",
       "      <td>2679 Rustic Loop</td>\n",
       "      <td>725.0</td>\n",
       "      <td>2</td>\n",
       "      <td>Fitness</td>\n",
       "      <td>18.279451</td>\n",
       "      <td>-66.037064</td>\n",
       "      <td>Pacific Asia</td>\n",
       "      <td>Bikaner</td>\n",
       "      <td>India</td>\n",
       "      <td>19492</td>\n",
       "      <td>1/13/2018 12:27</td>\n",
       "      <td>75939</td>\n",
       "      <td>1360</td>\n",
       "      <td>16.389999</td>\n",
       "      <td>0.05</td>\n",
       "      <td>179254</td>\n",
       "      <td>327.75</td>\n",
       "      <td>-0.80</td>\n",
       "      <td>1</td>\n",
       "      <td>327.75</td>\n",
       "      <td>311.359985</td>\n",
       "      <td>-249.089996</td>\n",
       "      <td>South Asia</td>\n",
       "      <td>Rajastán</td>\n",
       "      <td>PENDING</td>\n",
       "      <td>NaN</td>\n",
       "      <td>1360</td>\n",
       "      <td>73</td>\n",
       "      <td>NaN</td>\n",
       "      <td>http://images.acmesports.sports/Smart+watch</td>\n",
       "      <td>Smart watch</td>\n",
       "      <td>327.75</td>\n",
       "      <td>0</td>\n",
       "      <td>1/18/2018 12:27</td>\n",
       "      <td>Standard Class</td>\n",
       "    </tr>\n",
       "    <tr>\n",
       "      <th>2</th>\n",
       "      <td>CASH</td>\n",
       "      <td>4</td>\n",
       "      <td>4</td>\n",
       "      <td>-247.779999</td>\n",
       "      <td>309.720001</td>\n",
       "      <td>Shipping on time</td>\n",
       "      <td>0</td>\n",
       "      <td>73</td>\n",
       "      <td>Sporting Goods</td>\n",
       "      <td>San Jose</td>\n",
       "      <td>EE. UU.</td>\n",
       "      <td>XXXXXXXXX</td>\n",
       "      <td>Gillian</td>\n",
       "      <td>19491</td>\n",
       "      <td>Maldonado</td>\n",
       "      <td>XXXXXXXXX</td>\n",
       "      <td>Consumer</td>\n",
       "      <td>CA</td>\n",
       "      <td>8510 Round Bear Gate</td>\n",
       "      <td>95125.0</td>\n",
       "      <td>2</td>\n",
       "      <td>Fitness</td>\n",
       "      <td>37.292233</td>\n",
       "      <td>-121.881279</td>\n",
       "      <td>Pacific Asia</td>\n",
       "      <td>Bikaner</td>\n",
       "      <td>India</td>\n",
       "      <td>19491</td>\n",
       "      <td>1/13/2018 12:06</td>\n",
       "      <td>75938</td>\n",
       "      <td>1360</td>\n",
       "      <td>18.030001</td>\n",
       "      <td>0.06</td>\n",
       "      <td>179253</td>\n",
       "      <td>327.75</td>\n",
       "      <td>-0.80</td>\n",
       "      <td>1</td>\n",
       "      <td>327.75</td>\n",
       "      <td>309.720001</td>\n",
       "      <td>-247.779999</td>\n",
       "      <td>South Asia</td>\n",
       "      <td>Rajastán</td>\n",
       "      <td>CLOSED</td>\n",
       "      <td>NaN</td>\n",
       "      <td>1360</td>\n",
       "      <td>73</td>\n",
       "      <td>NaN</td>\n",
       "      <td>http://images.acmesports.sports/Smart+watch</td>\n",
       "      <td>Smart watch</td>\n",
       "      <td>327.75</td>\n",
       "      <td>0</td>\n",
       "      <td>1/17/2018 12:06</td>\n",
       "      <td>Standard Class</td>\n",
       "    </tr>\n",
       "    <tr>\n",
       "      <th>3</th>\n",
       "      <td>DEBIT</td>\n",
       "      <td>3</td>\n",
       "      <td>4</td>\n",
       "      <td>22.860001</td>\n",
       "      <td>304.809998</td>\n",
       "      <td>Advance shipping</td>\n",
       "      <td>0</td>\n",
       "      <td>73</td>\n",
       "      <td>Sporting Goods</td>\n",
       "      <td>Los Angeles</td>\n",
       "      <td>EE. UU.</td>\n",
       "      <td>XXXXXXXXX</td>\n",
       "      <td>Tana</td>\n",
       "      <td>19490</td>\n",
       "      <td>Tate</td>\n",
       "      <td>XXXXXXXXX</td>\n",
       "      <td>Home Office</td>\n",
       "      <td>CA</td>\n",
       "      <td>3200 Amber Bend</td>\n",
       "      <td>90027.0</td>\n",
       "      <td>2</td>\n",
       "      <td>Fitness</td>\n",
       "      <td>34.125946</td>\n",
       "      <td>-118.291016</td>\n",
       "      <td>Pacific Asia</td>\n",
       "      <td>Townsville</td>\n",
       "      <td>Australia</td>\n",
       "      <td>19490</td>\n",
       "      <td>1/13/2018 11:45</td>\n",
       "      <td>75937</td>\n",
       "      <td>1360</td>\n",
       "      <td>22.940001</td>\n",
       "      <td>0.07</td>\n",
       "      <td>179252</td>\n",
       "      <td>327.75</td>\n",
       "      <td>0.08</td>\n",
       "      <td>1</td>\n",
       "      <td>327.75</td>\n",
       "      <td>304.809998</td>\n",
       "      <td>22.860001</td>\n",
       "      <td>Oceania</td>\n",
       "      <td>Queensland</td>\n",
       "      <td>COMPLETE</td>\n",
       "      <td>NaN</td>\n",
       "      <td>1360</td>\n",
       "      <td>73</td>\n",
       "      <td>NaN</td>\n",
       "      <td>http://images.acmesports.sports/Smart+watch</td>\n",
       "      <td>Smart watch</td>\n",
       "      <td>327.75</td>\n",
       "      <td>0</td>\n",
       "      <td>1/16/2018 11:45</td>\n",
       "      <td>Standard Class</td>\n",
       "    </tr>\n",
       "    <tr>\n",
       "      <th>4</th>\n",
       "      <td>PAYMENT</td>\n",
       "      <td>2</td>\n",
       "      <td>4</td>\n",
       "      <td>134.210007</td>\n",
       "      <td>298.250000</td>\n",
       "      <td>Advance shipping</td>\n",
       "      <td>0</td>\n",
       "      <td>73</td>\n",
       "      <td>Sporting Goods</td>\n",
       "      <td>Caguas</td>\n",
       "      <td>Puerto Rico</td>\n",
       "      <td>XXXXXXXXX</td>\n",
       "      <td>Orli</td>\n",
       "      <td>19489</td>\n",
       "      <td>Hendricks</td>\n",
       "      <td>XXXXXXXXX</td>\n",
       "      <td>Corporate</td>\n",
       "      <td>PR</td>\n",
       "      <td>8671 Iron Anchor Corners</td>\n",
       "      <td>725.0</td>\n",
       "      <td>2</td>\n",
       "      <td>Fitness</td>\n",
       "      <td>18.253769</td>\n",
       "      <td>-66.037048</td>\n",
       "      <td>Pacific Asia</td>\n",
       "      <td>Townsville</td>\n",
       "      <td>Australia</td>\n",
       "      <td>19489</td>\n",
       "      <td>1/13/2018 11:24</td>\n",
       "      <td>75936</td>\n",
       "      <td>1360</td>\n",
       "      <td>29.500000</td>\n",
       "      <td>0.09</td>\n",
       "      <td>179251</td>\n",
       "      <td>327.75</td>\n",
       "      <td>0.45</td>\n",
       "      <td>1</td>\n",
       "      <td>327.75</td>\n",
       "      <td>298.250000</td>\n",
       "      <td>134.210007</td>\n",
       "      <td>Oceania</td>\n",
       "      <td>Queensland</td>\n",
       "      <td>PENDING_PAYMENT</td>\n",
       "      <td>NaN</td>\n",
       "      <td>1360</td>\n",
       "      <td>73</td>\n",
       "      <td>NaN</td>\n",
       "      <td>http://images.acmesports.sports/Smart+watch</td>\n",
       "      <td>Smart watch</td>\n",
       "      <td>327.75</td>\n",
       "      <td>0</td>\n",
       "      <td>1/15/2018 11:24</td>\n",
       "      <td>Standard Class</td>\n",
       "    </tr>\n",
       "    <tr>\n",
       "      <th>5</th>\n",
       "      <td>TRANSFER</td>\n",
       "      <td>6</td>\n",
       "      <td>4</td>\n",
       "      <td>18.580000</td>\n",
       "      <td>294.980011</td>\n",
       "      <td>Shipping canceled</td>\n",
       "      <td>0</td>\n",
       "      <td>73</td>\n",
       "      <td>Sporting Goods</td>\n",
       "      <td>Tonawanda</td>\n",
       "      <td>EE. UU.</td>\n",
       "      <td>XXXXXXXXX</td>\n",
       "      <td>Kimberly</td>\n",
       "      <td>19488</td>\n",
       "      <td>Flowers</td>\n",
       "      <td>XXXXXXXXX</td>\n",
       "      <td>Consumer</td>\n",
       "      <td>NY</td>\n",
       "      <td>2122 Hazy Corner</td>\n",
       "      <td>14150.0</td>\n",
       "      <td>2</td>\n",
       "      <td>Fitness</td>\n",
       "      <td>43.013969</td>\n",
       "      <td>-78.879066</td>\n",
       "      <td>Pacific Asia</td>\n",
       "      <td>Toowoomba</td>\n",
       "      <td>Australia</td>\n",
       "      <td>19488</td>\n",
       "      <td>1/13/2018 11:03</td>\n",
       "      <td>75935</td>\n",
       "      <td>1360</td>\n",
       "      <td>32.779999</td>\n",
       "      <td>0.10</td>\n",
       "      <td>179250</td>\n",
       "      <td>327.75</td>\n",
       "      <td>0.06</td>\n",
       "      <td>1</td>\n",
       "      <td>327.75</td>\n",
       "      <td>294.980011</td>\n",
       "      <td>18.580000</td>\n",
       "      <td>Oceania</td>\n",
       "      <td>Queensland</td>\n",
       "      <td>CANCELED</td>\n",
       "      <td>NaN</td>\n",
       "      <td>1360</td>\n",
       "      <td>73</td>\n",
       "      <td>NaN</td>\n",
       "      <td>http://images.acmesports.sports/Smart+watch</td>\n",
       "      <td>Smart watch</td>\n",
       "      <td>327.75</td>\n",
       "      <td>0</td>\n",
       "      <td>1/19/2018 11:03</td>\n",
       "      <td>Standard Class</td>\n",
       "    </tr>\n",
       "    <tr>\n",
       "      <th>6</th>\n",
       "      <td>DEBIT</td>\n",
       "      <td>2</td>\n",
       "      <td>1</td>\n",
       "      <td>95.180000</td>\n",
       "      <td>288.420013</td>\n",
       "      <td>Late delivery</td>\n",
       "      <td>1</td>\n",
       "      <td>73</td>\n",
       "      <td>Sporting Goods</td>\n",
       "      <td>Caguas</td>\n",
       "      <td>Puerto Rico</td>\n",
       "      <td>XXXXXXXXX</td>\n",
       "      <td>Constance</td>\n",
       "      <td>19487</td>\n",
       "      <td>Terrell</td>\n",
       "      <td>XXXXXXXXX</td>\n",
       "      <td>Home Office</td>\n",
       "      <td>PR</td>\n",
       "      <td>1879 Green Pine Bank</td>\n",
       "      <td>725.0</td>\n",
       "      <td>2</td>\n",
       "      <td>Fitness</td>\n",
       "      <td>18.242538</td>\n",
       "      <td>-66.037056</td>\n",
       "      <td>Pacific Asia</td>\n",
       "      <td>Guangzhou</td>\n",
       "      <td>China</td>\n",
       "      <td>19487</td>\n",
       "      <td>1/13/2018 10:42</td>\n",
       "      <td>75934</td>\n",
       "      <td>1360</td>\n",
       "      <td>39.330002</td>\n",
       "      <td>0.12</td>\n",
       "      <td>179249</td>\n",
       "      <td>327.75</td>\n",
       "      <td>0.33</td>\n",
       "      <td>1</td>\n",
       "      <td>327.75</td>\n",
       "      <td>288.420013</td>\n",
       "      <td>95.180000</td>\n",
       "      <td>Eastern Asia</td>\n",
       "      <td>Guangdong</td>\n",
       "      <td>COMPLETE</td>\n",
       "      <td>NaN</td>\n",
       "      <td>1360</td>\n",
       "      <td>73</td>\n",
       "      <td>NaN</td>\n",
       "      <td>http://images.acmesports.sports/Smart+watch</td>\n",
       "      <td>Smart watch</td>\n",
       "      <td>327.75</td>\n",
       "      <td>0</td>\n",
       "      <td>1/15/2018 10:42</td>\n",
       "      <td>First Class</td>\n",
       "    </tr>\n",
       "    <tr>\n",
       "      <th>7</th>\n",
       "      <td>TRANSFER</td>\n",
       "      <td>2</td>\n",
       "      <td>1</td>\n",
       "      <td>68.430000</td>\n",
       "      <td>285.140015</td>\n",
       "      <td>Late delivery</td>\n",
       "      <td>1</td>\n",
       "      <td>73</td>\n",
       "      <td>Sporting Goods</td>\n",
       "      <td>Miami</td>\n",
       "      <td>EE. UU.</td>\n",
       "      <td>XXXXXXXXX</td>\n",
       "      <td>Erica</td>\n",
       "      <td>19486</td>\n",
       "      <td>Stevens</td>\n",
       "      <td>XXXXXXXXX</td>\n",
       "      <td>Corporate</td>\n",
       "      <td>FL</td>\n",
       "      <td>7595 Cotton Log Row</td>\n",
       "      <td>33162.0</td>\n",
       "      <td>2</td>\n",
       "      <td>Fitness</td>\n",
       "      <td>25.928869</td>\n",
       "      <td>-80.162872</td>\n",
       "      <td>Pacific Asia</td>\n",
       "      <td>Guangzhou</td>\n",
       "      <td>China</td>\n",
       "      <td>19486</td>\n",
       "      <td>1/13/2018 10:21</td>\n",
       "      <td>75933</td>\n",
       "      <td>1360</td>\n",
       "      <td>42.610001</td>\n",
       "      <td>0.13</td>\n",
       "      <td>179248</td>\n",
       "      <td>327.75</td>\n",
       "      <td>0.24</td>\n",
       "      <td>1</td>\n",
       "      <td>327.75</td>\n",
       "      <td>285.140015</td>\n",
       "      <td>68.430000</td>\n",
       "      <td>Eastern Asia</td>\n",
       "      <td>Guangdong</td>\n",
       "      <td>PROCESSING</td>\n",
       "      <td>NaN</td>\n",
       "      <td>1360</td>\n",
       "      <td>73</td>\n",
       "      <td>NaN</td>\n",
       "      <td>http://images.acmesports.sports/Smart+watch</td>\n",
       "      <td>Smart watch</td>\n",
       "      <td>327.75</td>\n",
       "      <td>0</td>\n",
       "      <td>1/15/2018 10:21</td>\n",
       "      <td>First Class</td>\n",
       "    </tr>\n",
       "  </tbody>\n",
       "</table>\n",
       "</div>"
      ],
      "text/plain": [
       "       Type  Days for shipping (real)  Days for shipment (scheduled)  \\\n",
       "0     DEBIT                         3                              4   \n",
       "1  TRANSFER                         5                              4   \n",
       "2      CASH                         4                              4   \n",
       "3     DEBIT                         3                              4   \n",
       "4   PAYMENT                         2                              4   \n",
       "5  TRANSFER                         6                              4   \n",
       "6     DEBIT                         2                              1   \n",
       "7  TRANSFER                         2                              1   \n",
       "\n",
       "   Benefit per order  Sales per customer    Delivery Status  \\\n",
       "0          91.250000          314.640015   Advance shipping   \n",
       "1        -249.089996          311.359985      Late delivery   \n",
       "2        -247.779999          309.720001   Shipping on time   \n",
       "3          22.860001          304.809998   Advance shipping   \n",
       "4         134.210007          298.250000   Advance shipping   \n",
       "5          18.580000          294.980011  Shipping canceled   \n",
       "6          95.180000          288.420013      Late delivery   \n",
       "7          68.430000          285.140015      Late delivery   \n",
       "\n",
       "   Late_delivery_risk  Category Id   Category Name Customer City  \\\n",
       "0                   0           73  Sporting Goods        Caguas   \n",
       "1                   1           73  Sporting Goods        Caguas   \n",
       "2                   0           73  Sporting Goods      San Jose   \n",
       "3                   0           73  Sporting Goods   Los Angeles   \n",
       "4                   0           73  Sporting Goods        Caguas   \n",
       "5                   0           73  Sporting Goods     Tonawanda   \n",
       "6                   1           73  Sporting Goods        Caguas   \n",
       "7                   1           73  Sporting Goods         Miami   \n",
       "\n",
       "  Customer Country Customer Email Customer Fname  Customer Id Customer Lname  \\\n",
       "0      Puerto Rico      XXXXXXXXX          Cally        20755       Holloway   \n",
       "1      Puerto Rico      XXXXXXXXX          Irene        19492           Luna   \n",
       "2          EE. UU.      XXXXXXXXX        Gillian        19491      Maldonado   \n",
       "3          EE. UU.      XXXXXXXXX           Tana        19490           Tate   \n",
       "4      Puerto Rico      XXXXXXXXX           Orli        19489      Hendricks   \n",
       "5          EE. UU.      XXXXXXXXX       Kimberly        19488        Flowers   \n",
       "6      Puerto Rico      XXXXXXXXX      Constance        19487        Terrell   \n",
       "7          EE. UU.      XXXXXXXXX          Erica        19486        Stevens   \n",
       "\n",
       "  Customer Password Customer Segment Customer State           Customer Street  \\\n",
       "0         XXXXXXXXX         Consumer             PR  5365 Noble Nectar Island   \n",
       "1         XXXXXXXXX         Consumer             PR          2679 Rustic Loop   \n",
       "2         XXXXXXXXX         Consumer             CA      8510 Round Bear Gate   \n",
       "3         XXXXXXXXX      Home Office             CA           3200 Amber Bend   \n",
       "4         XXXXXXXXX        Corporate             PR  8671 Iron Anchor Corners   \n",
       "5         XXXXXXXXX         Consumer             NY          2122 Hazy Corner   \n",
       "6         XXXXXXXXX      Home Office             PR      1879 Green Pine Bank   \n",
       "7         XXXXXXXXX        Corporate             FL       7595 Cotton Log Row   \n",
       "\n",
       "   Customer Zipcode  Department Id Department Name   Latitude   Longitude  \\\n",
       "0             725.0              2         Fitness  18.251453  -66.037056   \n",
       "1             725.0              2         Fitness  18.279451  -66.037064   \n",
       "2           95125.0              2         Fitness  37.292233 -121.881279   \n",
       "3           90027.0              2         Fitness  34.125946 -118.291016   \n",
       "4             725.0              2         Fitness  18.253769  -66.037048   \n",
       "5           14150.0              2         Fitness  43.013969  -78.879066   \n",
       "6             725.0              2         Fitness  18.242538  -66.037056   \n",
       "7           33162.0              2         Fitness  25.928869  -80.162872   \n",
       "\n",
       "         Market  Order City Order Country  Order Customer Id  \\\n",
       "0  Pacific Asia      Bekasi     Indonesia              20755   \n",
       "1  Pacific Asia     Bikaner         India              19492   \n",
       "2  Pacific Asia     Bikaner         India              19491   \n",
       "3  Pacific Asia  Townsville     Australia              19490   \n",
       "4  Pacific Asia  Townsville     Australia              19489   \n",
       "5  Pacific Asia   Toowoomba     Australia              19488   \n",
       "6  Pacific Asia   Guangzhou         China              19487   \n",
       "7  Pacific Asia   Guangzhou         China              19486   \n",
       "\n",
       "  order date (DateOrders)  Order Id  Order Item Cardprod Id  \\\n",
       "0         1/31/2018 22:56     77202                    1360   \n",
       "1         1/13/2018 12:27     75939                    1360   \n",
       "2         1/13/2018 12:06     75938                    1360   \n",
       "3         1/13/2018 11:45     75937                    1360   \n",
       "4         1/13/2018 11:24     75936                    1360   \n",
       "5         1/13/2018 11:03     75935                    1360   \n",
       "6         1/13/2018 10:42     75934                    1360   \n",
       "7         1/13/2018 10:21     75933                    1360   \n",
       "\n",
       "   Order Item Discount  Order Item Discount Rate  Order Item Id  \\\n",
       "0            13.110000                      0.04         180517   \n",
       "1            16.389999                      0.05         179254   \n",
       "2            18.030001                      0.06         179253   \n",
       "3            22.940001                      0.07         179252   \n",
       "4            29.500000                      0.09         179251   \n",
       "5            32.779999                      0.10         179250   \n",
       "6            39.330002                      0.12         179249   \n",
       "7            42.610001                      0.13         179248   \n",
       "\n",
       "   Order Item Product Price  Order Item Profit Ratio  Order Item Quantity  \\\n",
       "0                    327.75                     0.29                    1   \n",
       "1                    327.75                    -0.80                    1   \n",
       "2                    327.75                    -0.80                    1   \n",
       "3                    327.75                     0.08                    1   \n",
       "4                    327.75                     0.45                    1   \n",
       "5                    327.75                     0.06                    1   \n",
       "6                    327.75                     0.33                    1   \n",
       "7                    327.75                     0.24                    1   \n",
       "\n",
       "    Sales  Order Item Total  Order Profit Per Order    Order Region  \\\n",
       "0  327.75        314.640015               91.250000  Southeast Asia   \n",
       "1  327.75        311.359985             -249.089996      South Asia   \n",
       "2  327.75        309.720001             -247.779999      South Asia   \n",
       "3  327.75        304.809998               22.860001         Oceania   \n",
       "4  327.75        298.250000              134.210007         Oceania   \n",
       "5  327.75        294.980011               18.580000         Oceania   \n",
       "6  327.75        288.420013               95.180000    Eastern Asia   \n",
       "7  327.75        285.140015               68.430000    Eastern Asia   \n",
       "\n",
       "       Order State     Order Status  Order Zipcode  Product Card Id  \\\n",
       "0  Java Occidental         COMPLETE            NaN             1360   \n",
       "1         Rajastán          PENDING            NaN             1360   \n",
       "2         Rajastán           CLOSED            NaN             1360   \n",
       "3       Queensland         COMPLETE            NaN             1360   \n",
       "4       Queensland  PENDING_PAYMENT            NaN             1360   \n",
       "5       Queensland         CANCELED            NaN             1360   \n",
       "6        Guangdong         COMPLETE            NaN             1360   \n",
       "7        Guangdong       PROCESSING            NaN             1360   \n",
       "\n",
       "   Product Category Id  Product Description  \\\n",
       "0                   73                  NaN   \n",
       "1                   73                  NaN   \n",
       "2                   73                  NaN   \n",
       "3                   73                  NaN   \n",
       "4                   73                  NaN   \n",
       "5                   73                  NaN   \n",
       "6                   73                  NaN   \n",
       "7                   73                  NaN   \n",
       "\n",
       "                                  Product Image  Product Name  Product Price  \\\n",
       "0  http://images.acmesports.sports/Smart+watch   Smart watch          327.75   \n",
       "1  http://images.acmesports.sports/Smart+watch   Smart watch          327.75   \n",
       "2  http://images.acmesports.sports/Smart+watch   Smart watch          327.75   \n",
       "3  http://images.acmesports.sports/Smart+watch   Smart watch          327.75   \n",
       "4  http://images.acmesports.sports/Smart+watch   Smart watch          327.75   \n",
       "5  http://images.acmesports.sports/Smart+watch   Smart watch          327.75   \n",
       "6  http://images.acmesports.sports/Smart+watch   Smart watch          327.75   \n",
       "7  http://images.acmesports.sports/Smart+watch   Smart watch          327.75   \n",
       "\n",
       "   Product Status shipping date (DateOrders)   Shipping Mode  \n",
       "0               0             2/3/2018 22:56  Standard Class  \n",
       "1               0            1/18/2018 12:27  Standard Class  \n",
       "2               0            1/17/2018 12:06  Standard Class  \n",
       "3               0            1/16/2018 11:45  Standard Class  \n",
       "4               0            1/15/2018 11:24  Standard Class  \n",
       "5               0            1/19/2018 11:03  Standard Class  \n",
       "6               0            1/15/2018 10:42     First Class  \n",
       "7               0            1/15/2018 10:21     First Class  "
      ]
     },
     "execution_count": 3,
     "metadata": {},
     "output_type": "execute_result"
    }
   ],
   "source": [
    "data = pd.read_csv('../input/dataco-smart-supply-chain-for-big-data-analysis/DataCoSupplyChainDataset.csv',header= 0,encoding='unicode_escape')\n",
    "pd.set_option('display.max_columns',None)\n",
    "data.head(8)"
   ]
  },
  {
   "cell_type": "code",
   "execution_count": 4,
   "metadata": {
    "execution": {
     "iopub.execute_input": "2023-09-05T22:46:39.994421Z",
     "iopub.status.busy": "2023-09-05T22:46:39.993643Z",
     "iopub.status.idle": "2023-09-05T22:46:40.281388Z",
     "shell.execute_reply": "2023-09-05T22:46:40.281996Z",
     "shell.execute_reply.started": "2023-09-05T18:40:27.871836Z"
    },
    "papermill": {
     "duration": 0.342204,
     "end_time": "2023-09-05T22:46:40.282156",
     "exception": false,
     "start_time": "2023-09-05T22:46:39.939952",
     "status": "completed"
    },
    "tags": []
   },
   "outputs": [
    {
     "data": {
      "text/html": [
       "<div>\n",
       "<style scoped>\n",
       "    .dataframe tbody tr th:only-of-type {\n",
       "        vertical-align: middle;\n",
       "    }\n",
       "\n",
       "    .dataframe tbody tr th {\n",
       "        vertical-align: top;\n",
       "    }\n",
       "\n",
       "    .dataframe thead th {\n",
       "        text-align: right;\n",
       "    }\n",
       "</style>\n",
       "<table border=\"1\" class=\"dataframe\">\n",
       "  <thead>\n",
       "    <tr style=\"text-align: right;\">\n",
       "      <th></th>\n",
       "      <th>Days for shipping (real)</th>\n",
       "      <th>Days for shipment (scheduled)</th>\n",
       "      <th>Benefit per order</th>\n",
       "      <th>Sales per customer</th>\n",
       "      <th>Late_delivery_risk</th>\n",
       "      <th>Category Id</th>\n",
       "      <th>Customer Id</th>\n",
       "      <th>Customer Zipcode</th>\n",
       "      <th>Department Id</th>\n",
       "      <th>Latitude</th>\n",
       "      <th>Longitude</th>\n",
       "      <th>Order Customer Id</th>\n",
       "      <th>Order Id</th>\n",
       "      <th>Order Item Cardprod Id</th>\n",
       "      <th>Order Item Discount</th>\n",
       "      <th>Order Item Discount Rate</th>\n",
       "      <th>Order Item Id</th>\n",
       "      <th>Order Item Product Price</th>\n",
       "      <th>Order Item Profit Ratio</th>\n",
       "      <th>Order Item Quantity</th>\n",
       "      <th>Sales</th>\n",
       "      <th>Order Item Total</th>\n",
       "      <th>Order Profit Per Order</th>\n",
       "      <th>Order Zipcode</th>\n",
       "      <th>Product Card Id</th>\n",
       "      <th>Product Category Id</th>\n",
       "      <th>Product Description</th>\n",
       "      <th>Product Price</th>\n",
       "      <th>Product Status</th>\n",
       "    </tr>\n",
       "  </thead>\n",
       "  <tbody>\n",
       "    <tr>\n",
       "      <th>count</th>\n",
       "      <td>180519.000000</td>\n",
       "      <td>180519.000000</td>\n",
       "      <td>180519.000000</td>\n",
       "      <td>180519.000000</td>\n",
       "      <td>180519.000000</td>\n",
       "      <td>180519.000000</td>\n",
       "      <td>180519.000000</td>\n",
       "      <td>180516.000000</td>\n",
       "      <td>180519.000000</td>\n",
       "      <td>180519.000000</td>\n",
       "      <td>180519.000000</td>\n",
       "      <td>180519.000000</td>\n",
       "      <td>180519.000000</td>\n",
       "      <td>180519.000000</td>\n",
       "      <td>180519.000000</td>\n",
       "      <td>180519.000000</td>\n",
       "      <td>180519.000000</td>\n",
       "      <td>180519.000000</td>\n",
       "      <td>180519.000000</td>\n",
       "      <td>180519.000000</td>\n",
       "      <td>180519.000000</td>\n",
       "      <td>180519.000000</td>\n",
       "      <td>180519.000000</td>\n",
       "      <td>24840.000000</td>\n",
       "      <td>180519.000000</td>\n",
       "      <td>180519.000000</td>\n",
       "      <td>0.0</td>\n",
       "      <td>180519.000000</td>\n",
       "      <td>180519.0</td>\n",
       "    </tr>\n",
       "    <tr>\n",
       "      <th>mean</th>\n",
       "      <td>3.497654</td>\n",
       "      <td>2.931847</td>\n",
       "      <td>21.974989</td>\n",
       "      <td>183.107609</td>\n",
       "      <td>0.548291</td>\n",
       "      <td>31.851451</td>\n",
       "      <td>6691.379495</td>\n",
       "      <td>35921.126914</td>\n",
       "      <td>5.443460</td>\n",
       "      <td>29.719955</td>\n",
       "      <td>-84.915675</td>\n",
       "      <td>6691.379495</td>\n",
       "      <td>36221.894903</td>\n",
       "      <td>692.509764</td>\n",
       "      <td>20.664741</td>\n",
       "      <td>0.101668</td>\n",
       "      <td>90260.000000</td>\n",
       "      <td>141.232550</td>\n",
       "      <td>0.120647</td>\n",
       "      <td>2.127638</td>\n",
       "      <td>203.772096</td>\n",
       "      <td>183.107609</td>\n",
       "      <td>21.974989</td>\n",
       "      <td>55426.132327</td>\n",
       "      <td>692.509764</td>\n",
       "      <td>31.851451</td>\n",
       "      <td>NaN</td>\n",
       "      <td>141.232550</td>\n",
       "      <td>0.0</td>\n",
       "    </tr>\n",
       "    <tr>\n",
       "      <th>std</th>\n",
       "      <td>1.623722</td>\n",
       "      <td>1.374449</td>\n",
       "      <td>104.433526</td>\n",
       "      <td>120.043670</td>\n",
       "      <td>0.497664</td>\n",
       "      <td>15.640064</td>\n",
       "      <td>4162.918106</td>\n",
       "      <td>37542.461122</td>\n",
       "      <td>1.629246</td>\n",
       "      <td>9.813646</td>\n",
       "      <td>21.433241</td>\n",
       "      <td>4162.918106</td>\n",
       "      <td>21045.379569</td>\n",
       "      <td>336.446807</td>\n",
       "      <td>21.800901</td>\n",
       "      <td>0.070415</td>\n",
       "      <td>52111.490959</td>\n",
       "      <td>139.732492</td>\n",
       "      <td>0.466796</td>\n",
       "      <td>1.453451</td>\n",
       "      <td>132.273077</td>\n",
       "      <td>120.043670</td>\n",
       "      <td>104.433526</td>\n",
       "      <td>31919.279101</td>\n",
       "      <td>336.446807</td>\n",
       "      <td>15.640064</td>\n",
       "      <td>NaN</td>\n",
       "      <td>139.732492</td>\n",
       "      <td>0.0</td>\n",
       "    </tr>\n",
       "    <tr>\n",
       "      <th>min</th>\n",
       "      <td>0.000000</td>\n",
       "      <td>0.000000</td>\n",
       "      <td>-4274.979980</td>\n",
       "      <td>7.490000</td>\n",
       "      <td>0.000000</td>\n",
       "      <td>2.000000</td>\n",
       "      <td>1.000000</td>\n",
       "      <td>603.000000</td>\n",
       "      <td>2.000000</td>\n",
       "      <td>-33.937553</td>\n",
       "      <td>-158.025986</td>\n",
       "      <td>1.000000</td>\n",
       "      <td>1.000000</td>\n",
       "      <td>19.000000</td>\n",
       "      <td>0.000000</td>\n",
       "      <td>0.000000</td>\n",
       "      <td>1.000000</td>\n",
       "      <td>9.990000</td>\n",
       "      <td>-2.750000</td>\n",
       "      <td>1.000000</td>\n",
       "      <td>9.990000</td>\n",
       "      <td>7.490000</td>\n",
       "      <td>-4274.979980</td>\n",
       "      <td>1040.000000</td>\n",
       "      <td>19.000000</td>\n",
       "      <td>2.000000</td>\n",
       "      <td>NaN</td>\n",
       "      <td>9.990000</td>\n",
       "      <td>0.0</td>\n",
       "    </tr>\n",
       "    <tr>\n",
       "      <th>25%</th>\n",
       "      <td>2.000000</td>\n",
       "      <td>2.000000</td>\n",
       "      <td>7.000000</td>\n",
       "      <td>104.379997</td>\n",
       "      <td>0.000000</td>\n",
       "      <td>18.000000</td>\n",
       "      <td>3258.500000</td>\n",
       "      <td>725.000000</td>\n",
       "      <td>4.000000</td>\n",
       "      <td>18.265432</td>\n",
       "      <td>-98.446312</td>\n",
       "      <td>3258.500000</td>\n",
       "      <td>18057.000000</td>\n",
       "      <td>403.000000</td>\n",
       "      <td>5.400000</td>\n",
       "      <td>0.040000</td>\n",
       "      <td>45130.500000</td>\n",
       "      <td>50.000000</td>\n",
       "      <td>0.080000</td>\n",
       "      <td>1.000000</td>\n",
       "      <td>119.980003</td>\n",
       "      <td>104.379997</td>\n",
       "      <td>7.000000</td>\n",
       "      <td>23464.000000</td>\n",
       "      <td>403.000000</td>\n",
       "      <td>18.000000</td>\n",
       "      <td>NaN</td>\n",
       "      <td>50.000000</td>\n",
       "      <td>0.0</td>\n",
       "    </tr>\n",
       "    <tr>\n",
       "      <th>50%</th>\n",
       "      <td>3.000000</td>\n",
       "      <td>4.000000</td>\n",
       "      <td>31.520000</td>\n",
       "      <td>163.990005</td>\n",
       "      <td>1.000000</td>\n",
       "      <td>29.000000</td>\n",
       "      <td>6457.000000</td>\n",
       "      <td>19380.000000</td>\n",
       "      <td>5.000000</td>\n",
       "      <td>33.144863</td>\n",
       "      <td>-76.847908</td>\n",
       "      <td>6457.000000</td>\n",
       "      <td>36140.000000</td>\n",
       "      <td>627.000000</td>\n",
       "      <td>14.000000</td>\n",
       "      <td>0.100000</td>\n",
       "      <td>90260.000000</td>\n",
       "      <td>59.990002</td>\n",
       "      <td>0.270000</td>\n",
       "      <td>1.000000</td>\n",
       "      <td>199.919998</td>\n",
       "      <td>163.990005</td>\n",
       "      <td>31.520000</td>\n",
       "      <td>59405.000000</td>\n",
       "      <td>627.000000</td>\n",
       "      <td>29.000000</td>\n",
       "      <td>NaN</td>\n",
       "      <td>59.990002</td>\n",
       "      <td>0.0</td>\n",
       "    </tr>\n",
       "    <tr>\n",
       "      <th>75%</th>\n",
       "      <td>5.000000</td>\n",
       "      <td>4.000000</td>\n",
       "      <td>64.800003</td>\n",
       "      <td>247.399994</td>\n",
       "      <td>1.000000</td>\n",
       "      <td>45.000000</td>\n",
       "      <td>9779.000000</td>\n",
       "      <td>78207.000000</td>\n",
       "      <td>7.000000</td>\n",
       "      <td>39.279617</td>\n",
       "      <td>-66.370583</td>\n",
       "      <td>9779.000000</td>\n",
       "      <td>54144.000000</td>\n",
       "      <td>1004.000000</td>\n",
       "      <td>29.990000</td>\n",
       "      <td>0.160000</td>\n",
       "      <td>135389.500000</td>\n",
       "      <td>199.990005</td>\n",
       "      <td>0.360000</td>\n",
       "      <td>3.000000</td>\n",
       "      <td>299.950012</td>\n",
       "      <td>247.399994</td>\n",
       "      <td>64.800003</td>\n",
       "      <td>90008.000000</td>\n",
       "      <td>1004.000000</td>\n",
       "      <td>45.000000</td>\n",
       "      <td>NaN</td>\n",
       "      <td>199.990005</td>\n",
       "      <td>0.0</td>\n",
       "    </tr>\n",
       "    <tr>\n",
       "      <th>max</th>\n",
       "      <td>6.000000</td>\n",
       "      <td>4.000000</td>\n",
       "      <td>911.799988</td>\n",
       "      <td>1939.989990</td>\n",
       "      <td>1.000000</td>\n",
       "      <td>76.000000</td>\n",
       "      <td>20757.000000</td>\n",
       "      <td>99205.000000</td>\n",
       "      <td>12.000000</td>\n",
       "      <td>48.781933</td>\n",
       "      <td>115.263077</td>\n",
       "      <td>20757.000000</td>\n",
       "      <td>77204.000000</td>\n",
       "      <td>1363.000000</td>\n",
       "      <td>500.000000</td>\n",
       "      <td>0.250000</td>\n",
       "      <td>180519.000000</td>\n",
       "      <td>1999.989990</td>\n",
       "      <td>0.500000</td>\n",
       "      <td>5.000000</td>\n",
       "      <td>1999.989990</td>\n",
       "      <td>1939.989990</td>\n",
       "      <td>911.799988</td>\n",
       "      <td>99301.000000</td>\n",
       "      <td>1363.000000</td>\n",
       "      <td>76.000000</td>\n",
       "      <td>NaN</td>\n",
       "      <td>1999.989990</td>\n",
       "      <td>0.0</td>\n",
       "    </tr>\n",
       "  </tbody>\n",
       "</table>\n",
       "</div>"
      ],
      "text/plain": [
       "       Days for shipping (real)  Days for shipment (scheduled)  \\\n",
       "count             180519.000000                  180519.000000   \n",
       "mean                   3.497654                       2.931847   \n",
       "std                    1.623722                       1.374449   \n",
       "min                    0.000000                       0.000000   \n",
       "25%                    2.000000                       2.000000   \n",
       "50%                    3.000000                       4.000000   \n",
       "75%                    5.000000                       4.000000   \n",
       "max                    6.000000                       4.000000   \n",
       "\n",
       "       Benefit per order  Sales per customer  Late_delivery_risk  \\\n",
       "count      180519.000000       180519.000000       180519.000000   \n",
       "mean           21.974989          183.107609            0.548291   \n",
       "std           104.433526          120.043670            0.497664   \n",
       "min         -4274.979980            7.490000            0.000000   \n",
       "25%             7.000000          104.379997            0.000000   \n",
       "50%            31.520000          163.990005            1.000000   \n",
       "75%            64.800003          247.399994            1.000000   \n",
       "max           911.799988         1939.989990            1.000000   \n",
       "\n",
       "         Category Id    Customer Id  Customer Zipcode  Department Id  \\\n",
       "count  180519.000000  180519.000000     180516.000000  180519.000000   \n",
       "mean       31.851451    6691.379495      35921.126914       5.443460   \n",
       "std        15.640064    4162.918106      37542.461122       1.629246   \n",
       "min         2.000000       1.000000        603.000000       2.000000   \n",
       "25%        18.000000    3258.500000        725.000000       4.000000   \n",
       "50%        29.000000    6457.000000      19380.000000       5.000000   \n",
       "75%        45.000000    9779.000000      78207.000000       7.000000   \n",
       "max        76.000000   20757.000000      99205.000000      12.000000   \n",
       "\n",
       "            Latitude      Longitude  Order Customer Id       Order Id  \\\n",
       "count  180519.000000  180519.000000      180519.000000  180519.000000   \n",
       "mean       29.719955     -84.915675        6691.379495   36221.894903   \n",
       "std         9.813646      21.433241        4162.918106   21045.379569   \n",
       "min       -33.937553    -158.025986           1.000000       1.000000   \n",
       "25%        18.265432     -98.446312        3258.500000   18057.000000   \n",
       "50%        33.144863     -76.847908        6457.000000   36140.000000   \n",
       "75%        39.279617     -66.370583        9779.000000   54144.000000   \n",
       "max        48.781933     115.263077       20757.000000   77204.000000   \n",
       "\n",
       "       Order Item Cardprod Id  Order Item Discount  Order Item Discount Rate  \\\n",
       "count           180519.000000        180519.000000             180519.000000   \n",
       "mean               692.509764            20.664741                  0.101668   \n",
       "std                336.446807            21.800901                  0.070415   \n",
       "min                 19.000000             0.000000                  0.000000   \n",
       "25%                403.000000             5.400000                  0.040000   \n",
       "50%                627.000000            14.000000                  0.100000   \n",
       "75%               1004.000000            29.990000                  0.160000   \n",
       "max               1363.000000           500.000000                  0.250000   \n",
       "\n",
       "       Order Item Id  Order Item Product Price  Order Item Profit Ratio  \\\n",
       "count  180519.000000             180519.000000            180519.000000   \n",
       "mean    90260.000000                141.232550                 0.120647   \n",
       "std     52111.490959                139.732492                 0.466796   \n",
       "min         1.000000                  9.990000                -2.750000   \n",
       "25%     45130.500000                 50.000000                 0.080000   \n",
       "50%     90260.000000                 59.990002                 0.270000   \n",
       "75%    135389.500000                199.990005                 0.360000   \n",
       "max    180519.000000               1999.989990                 0.500000   \n",
       "\n",
       "       Order Item Quantity          Sales  Order Item Total  \\\n",
       "count        180519.000000  180519.000000     180519.000000   \n",
       "mean              2.127638     203.772096        183.107609   \n",
       "std               1.453451     132.273077        120.043670   \n",
       "min               1.000000       9.990000          7.490000   \n",
       "25%               1.000000     119.980003        104.379997   \n",
       "50%               1.000000     199.919998        163.990005   \n",
       "75%               3.000000     299.950012        247.399994   \n",
       "max               5.000000    1999.989990       1939.989990   \n",
       "\n",
       "       Order Profit Per Order  Order Zipcode  Product Card Id  \\\n",
       "count           180519.000000   24840.000000    180519.000000   \n",
       "mean                21.974989   55426.132327       692.509764   \n",
       "std                104.433526   31919.279101       336.446807   \n",
       "min              -4274.979980    1040.000000        19.000000   \n",
       "25%                  7.000000   23464.000000       403.000000   \n",
       "50%                 31.520000   59405.000000       627.000000   \n",
       "75%                 64.800003   90008.000000      1004.000000   \n",
       "max                911.799988   99301.000000      1363.000000   \n",
       "\n",
       "       Product Category Id  Product Description  Product Price  Product Status  \n",
       "count        180519.000000                  0.0  180519.000000        180519.0  \n",
       "mean             31.851451                  NaN     141.232550             0.0  \n",
       "std              15.640064                  NaN     139.732492             0.0  \n",
       "min               2.000000                  NaN       9.990000             0.0  \n",
       "25%              18.000000                  NaN      50.000000             0.0  \n",
       "50%              29.000000                  NaN      59.990002             0.0  \n",
       "75%              45.000000                  NaN     199.990005             0.0  \n",
       "max              76.000000                  NaN    1999.989990             0.0  "
      ]
     },
     "execution_count": 4,
     "metadata": {},
     "output_type": "execute_result"
    }
   ],
   "source": [
    "data.describe()"
   ]
  },
  {
   "cell_type": "code",
   "execution_count": 5,
   "metadata": {
    "execution": {
     "iopub.execute_input": "2023-09-05T22:46:40.331782Z",
     "iopub.status.busy": "2023-09-05T22:46:40.330627Z",
     "iopub.status.idle": "2023-09-05T22:46:40.856329Z",
     "shell.execute_reply": "2023-09-05T22:46:40.855378Z",
     "shell.execute_reply.started": "2023-09-05T18:40:31.318169Z"
    },
    "papermill": {
     "duration": 0.552661,
     "end_time": "2023-09-05T22:46:40.856503",
     "exception": false,
     "start_time": "2023-09-05T22:46:40.303842",
     "status": "completed"
    },
    "tags": []
   },
   "outputs": [
    {
     "name": "stdout",
     "output_type": "stream",
     "text": [
      "<class 'pandas.core.frame.DataFrame'>\n",
      "RangeIndex: 180519 entries, 0 to 180518\n",
      "Data columns (total 53 columns):\n",
      " #   Column                         Non-Null Count   Dtype  \n",
      "---  ------                         --------------   -----  \n",
      " 0   Type                           180519 non-null  object \n",
      " 1   Days for shipping (real)       180519 non-null  int64  \n",
      " 2   Days for shipment (scheduled)  180519 non-null  int64  \n",
      " 3   Benefit per order              180519 non-null  float64\n",
      " 4   Sales per customer             180519 non-null  float64\n",
      " 5   Delivery Status                180519 non-null  object \n",
      " 6   Late_delivery_risk             180519 non-null  int64  \n",
      " 7   Category Id                    180519 non-null  int64  \n",
      " 8   Category Name                  180519 non-null  object \n",
      " 9   Customer City                  180519 non-null  object \n",
      " 10  Customer Country               180519 non-null  object \n",
      " 11  Customer Email                 180519 non-null  object \n",
      " 12  Customer Fname                 180519 non-null  object \n",
      " 13  Customer Id                    180519 non-null  int64  \n",
      " 14  Customer Lname                 180511 non-null  object \n",
      " 15  Customer Password              180519 non-null  object \n",
      " 16  Customer Segment               180519 non-null  object \n",
      " 17  Customer State                 180519 non-null  object \n",
      " 18  Customer Street                180519 non-null  object \n",
      " 19  Customer Zipcode               180516 non-null  float64\n",
      " 20  Department Id                  180519 non-null  int64  \n",
      " 21  Department Name                180519 non-null  object \n",
      " 22  Latitude                       180519 non-null  float64\n",
      " 23  Longitude                      180519 non-null  float64\n",
      " 24  Market                         180519 non-null  object \n",
      " 25  Order City                     180519 non-null  object \n",
      " 26  Order Country                  180519 non-null  object \n",
      " 27  Order Customer Id              180519 non-null  int64  \n",
      " 28  order date (DateOrders)        180519 non-null  object \n",
      " 29  Order Id                       180519 non-null  int64  \n",
      " 30  Order Item Cardprod Id         180519 non-null  int64  \n",
      " 31  Order Item Discount            180519 non-null  float64\n",
      " 32  Order Item Discount Rate       180519 non-null  float64\n",
      " 33  Order Item Id                  180519 non-null  int64  \n",
      " 34  Order Item Product Price       180519 non-null  float64\n",
      " 35  Order Item Profit Ratio        180519 non-null  float64\n",
      " 36  Order Item Quantity            180519 non-null  int64  \n",
      " 37  Sales                          180519 non-null  float64\n",
      " 38  Order Item Total               180519 non-null  float64\n",
      " 39  Order Profit Per Order         180519 non-null  float64\n",
      " 40  Order Region                   180519 non-null  object \n",
      " 41  Order State                    180519 non-null  object \n",
      " 42  Order Status                   180519 non-null  object \n",
      " 43  Order Zipcode                  24840 non-null   float64\n",
      " 44  Product Card Id                180519 non-null  int64  \n",
      " 45  Product Category Id            180519 non-null  int64  \n",
      " 46  Product Description            0 non-null       float64\n",
      " 47  Product Image                  180519 non-null  object \n",
      " 48  Product Name                   180519 non-null  object \n",
      " 49  Product Price                  180519 non-null  float64\n",
      " 50  Product Status                 180519 non-null  int64  \n",
      " 51  shipping date (DateOrders)     180519 non-null  object \n",
      " 52  Shipping Mode                  180519 non-null  object \n",
      "dtypes: float64(15), int64(14), object(24)\n",
      "memory usage: 73.0+ MB\n"
     ]
    }
   ],
   "source": [
    "data.info()"
   ]
  },
  {
   "cell_type": "code",
   "execution_count": 6,
   "metadata": {
    "execution": {
     "iopub.execute_input": "2023-09-05T22:46:40.905863Z",
     "iopub.status.busy": "2023-09-05T22:46:40.905134Z",
     "iopub.status.idle": "2023-09-05T22:46:41.413723Z",
     "shell.execute_reply": "2023-09-05T22:46:41.412161Z",
     "shell.execute_reply.started": "2023-09-05T18:40:33.577863Z"
    },
    "papermill": {
     "duration": 0.535165,
     "end_time": "2023-09-05T22:46:41.413893",
     "exception": false,
     "start_time": "2023-09-05T22:46:40.878728",
     "status": "completed"
    },
    "tags": []
   },
   "outputs": [
    {
     "data": {
      "text/plain": [
       "Type                                  0\n",
       "Days for shipping (real)              0\n",
       "Days for shipment (scheduled)         0\n",
       "Benefit per order                     0\n",
       "Sales per customer                    0\n",
       "Delivery Status                       0\n",
       "Late_delivery_risk                    0\n",
       "Category Id                           0\n",
       "Category Name                         0\n",
       "Customer City                         0\n",
       "Customer Country                      0\n",
       "Customer Email                        0\n",
       "Customer Fname                        0\n",
       "Customer Id                           0\n",
       "Customer Lname                        8\n",
       "Customer Password                     0\n",
       "Customer Segment                      0\n",
       "Customer State                        0\n",
       "Customer Street                       0\n",
       "Customer Zipcode                      3\n",
       "Department Id                         0\n",
       "Department Name                       0\n",
       "Latitude                              0\n",
       "Longitude                             0\n",
       "Market                                0\n",
       "Order City                            0\n",
       "Order Country                         0\n",
       "Order Customer Id                     0\n",
       "order date (DateOrders)               0\n",
       "Order Id                              0\n",
       "Order Item Cardprod Id                0\n",
       "Order Item Discount                   0\n",
       "Order Item Discount Rate              0\n",
       "Order Item Id                         0\n",
       "Order Item Product Price              0\n",
       "Order Item Profit Ratio               0\n",
       "Order Item Quantity                   0\n",
       "Sales                                 0\n",
       "Order Item Total                      0\n",
       "Order Profit Per Order                0\n",
       "Order Region                          0\n",
       "Order State                           0\n",
       "Order Status                          0\n",
       "Order Zipcode                    155679\n",
       "Product Card Id                       0\n",
       "Product Category Id                   0\n",
       "Product Description              180519\n",
       "Product Image                         0\n",
       "Product Name                          0\n",
       "Product Price                         0\n",
       "Product Status                        0\n",
       "shipping date (DateOrders)            0\n",
       "Shipping Mode                         0\n",
       "dtype: int64"
      ]
     },
     "execution_count": 6,
     "metadata": {},
     "output_type": "execute_result"
    }
   ],
   "source": [
    "data.isnull().sum()"
   ]
  },
  {
   "cell_type": "markdown",
   "metadata": {
    "papermill": {
     "duration": 0.022332,
     "end_time": "2023-09-05T22:46:41.459333",
     "exception": false,
     "start_time": "2023-09-05T22:46:41.437001",
     "status": "completed"
    },
    "tags": []
   },
   "source": [
    "Mostly all entries are non-null, except **'Order Zipcode'** and **'Product Description'** column (we will drop those columns)"
   ]
  },
  {
   "cell_type": "markdown",
   "metadata": {
    "papermill": {
     "duration": 0.020618,
     "end_time": "2023-09-05T22:46:41.502153",
     "exception": false,
     "start_time": "2023-09-05T22:46:41.481535",
     "status": "completed"
    },
    "tags": []
   },
   "source": [
    "# 3. Exploratory data analysis (EDA)"
   ]
  },
  {
   "cell_type": "code",
   "execution_count": 7,
   "metadata": {
    "execution": {
     "iopub.execute_input": "2023-09-05T22:46:41.555890Z",
     "iopub.status.busy": "2023-09-05T22:46:41.554166Z",
     "iopub.status.idle": "2023-09-05T22:46:41.561754Z",
     "shell.execute_reply": "2023-09-05T22:46:41.561142Z",
     "shell.execute_reply.started": "2023-09-05T18:41:09.698582Z"
    },
    "papermill": {
     "duration": 0.038095,
     "end_time": "2023-09-05T22:46:41.561888",
     "exception": false,
     "start_time": "2023-09-05T22:46:41.523793",
     "status": "completed"
    },
    "tags": []
   },
   "outputs": [
    {
     "name": "stdout",
     "output_type": "stream",
     "text": [
      "1) Number of columns are :  53\n",
      "2) Number of rows are :  180519\n",
      "3) Total number of data-points : 9567507\n",
      "4) Count of Numerical Features : 29\n",
      "5) Count of Categorical Features : 24\n"
     ]
    }
   ],
   "source": [
    "def data_info(data):\n",
    "    print('1) Number of columns are : ',data.shape[1])\n",
    "    print('2) Number of rows are : ',data.shape[0])\n",
    "    print('3) Total number of data-points :',data.size)\n",
    "    numerical_features = [f for f in data.columns if data[f].dtypes!='O']\n",
    "    print('4) Count of Numerical Features :',len(numerical_features))\n",
    "    cat_features = [c for c in data.columns if data[c].dtypes=='O']\n",
    "    print('5) Count of Categorical Features :',len(cat_features))\n",
    "\n",
    "data_info(data)"
   ]
  },
  {
   "cell_type": "markdown",
   "metadata": {
    "papermill": {
     "duration": 0.021439,
     "end_time": "2023-09-05T22:46:41.604316",
     "exception": false,
     "start_time": "2023-09-05T22:46:41.582877",
     "status": "completed"
    },
    "tags": []
   },
   "source": [
    "## 3.1. Null value analysis"
   ]
  },
  {
   "cell_type": "code",
   "execution_count": 8,
   "metadata": {
    "execution": {
     "iopub.execute_input": "2023-09-05T22:46:41.658661Z",
     "iopub.status.busy": "2023-09-05T22:46:41.657930Z",
     "iopub.status.idle": "2023-09-05T22:46:42.706331Z",
     "shell.execute_reply": "2023-09-05T22:46:42.706911Z",
     "shell.execute_reply.started": "2023-09-05T18:41:10.778521Z"
    },
    "papermill": {
     "duration": 1.081235,
     "end_time": "2023-09-05T22:46:42.707084",
     "exception": false,
     "start_time": "2023-09-05T22:46:41.625849",
     "status": "completed"
    },
    "tags": []
   },
   "outputs": [
    {
     "name": "stdout",
     "output_type": "stream",
     "text": [
      "Percentage of total missing values is  3.51 %\n",
      "Null value estimation ->\n",
      "The feature  Customer Lname  has 8 (0.0%) missing values\n",
      "The feature  Customer Zipcode  has 3 (0.0%) missing values\n",
      "The feature  Order Zipcode  has 155679 (0.8624%) missing values\n",
      "The feature  Product Description  has 180519 (1.0%) missing values\n"
     ]
    }
   ],
   "source": [
    "def features_with_missing_values(data):\n",
    "    x = data.isnull().sum().sum()/(data.shape[0]*data.shape[1])*100\n",
    "    print('Percentage of total missing values is ' ,round(x,2) ,'%')\n",
    "    print('Null value estimation ->')\n",
    "    for i in data.columns:\n",
    "        if data[i].isna().sum()>0:\n",
    "            print('The feature ', i,' has '+ str(data[i].isna().sum()) + ' (' +str((data[i].isna().sum()/data[i].shape[0]).round(4)) + \"%)\" + ' missing values')\n",
    "\n",
    "            \n",
    "features_with_missing_values(data)"
   ]
  },
  {
   "cell_type": "markdown",
   "metadata": {
    "papermill": {
     "duration": 0.021853,
     "end_time": "2023-09-05T22:46:42.750766",
     "exception": false,
     "start_time": "2023-09-05T22:46:42.728913",
     "status": "completed"
    },
    "tags": []
   },
   "source": [
    "## 3.2. Target variable analysis"
   ]
  },
  {
   "cell_type": "code",
   "execution_count": 9,
   "metadata": {
    "execution": {
     "iopub.execute_input": "2023-09-05T22:46:42.800115Z",
     "iopub.status.busy": "2023-09-05T22:46:42.799190Z",
     "iopub.status.idle": "2023-09-05T22:46:49.148361Z",
     "shell.execute_reply": "2023-09-05T22:46:49.147611Z",
     "shell.execute_reply.started": "2023-09-05T18:43:42.502376Z"
    },
    "papermill": {
     "duration": 6.375934,
     "end_time": "2023-09-05T22:46:49.148495",
     "exception": false,
     "start_time": "2023-09-05T22:46:42.772561",
     "status": "completed"
    },
    "tags": []
   },
   "outputs": [
    {
     "data": {
      "text/plain": [
       "<matplotlib.axes._subplots.AxesSubplot at 0x7c27a7731fd0>"
      ]
     },
     "execution_count": 9,
     "metadata": {},
     "output_type": "execute_result"
    },
    {
     "data": {
      "image/png": "[encoded data removed]",
      "text/plain": [
       "<Figure size 432x288 with 1 Axes>"
      ]
     },
     "metadata": {
      "needs_background": "light"
     },
     "output_type": "display_data"
    }
   ],
   "source": [
    "# sns.set()\n",
    "sns.scatterplot(x=\"Days for shipment (scheduled)\",y=\"Days for shipping (real)\",hue=\"Late_delivery_risk\",data=data)\n",
    "# 1 -> late delivery\n",
    "# 0 -> on-time delivery\n",
    "# when real time needed > scheduled time"
   ]
  },
  {
   "cell_type": "markdown",
   "metadata": {
    "papermill": {
     "duration": 0.022133,
     "end_time": "2023-09-05T22:46:49.193952",
     "exception": false,
     "start_time": "2023-09-05T22:46:49.171819",
     "status": "completed"
    },
    "tags": []
   },
   "source": [
    "## 3.3. Correlation heatmap"
   ]
  },
  {
   "cell_type": "code",
   "execution_count": 10,
   "metadata": {
    "execution": {
     "iopub.execute_input": "2023-09-05T22:46:49.246387Z",
     "iopub.status.busy": "2023-09-05T22:46:49.245595Z",
     "iopub.status.idle": "2023-09-05T22:46:53.110201Z",
     "shell.execute_reply": "2023-09-05T22:46:53.110806Z",
     "shell.execute_reply.started": "2023-09-05T18:45:07.001138Z"
    },
    "papermill": {
     "duration": 3.894586,
     "end_time": "2023-09-05T22:46:53.110988",
     "exception": false,
     "start_time": "2023-09-05T22:46:49.216402",
     "status": "completed"
    },
    "tags": []
   },
   "outputs": [
    {
     "data": {
      "image/png": "[encoded data removed]",
      "text/plain": [
       "<Figure size 2160x1440 with 2 Axes>"
      ]
     },
     "metadata": {
      "needs_background": "light"
     },
     "output_type": "display_data"
    }
   ],
   "source": [
    "# heat maps to find any correlation betweeen variables\n",
    "corrmap = data.corr()\n",
    "top=corrmap.index\n",
    "plt.figure(figsize=(30,20))\n",
    "g=sns.heatmap(data[top].corr(),annot=True,cmap=\"viridis\")"
   ]
  },
  {
   "cell_type": "markdown",
   "metadata": {
    "papermill": {
     "duration": 0.025641,
     "end_time": "2023-09-05T22:46:53.162499",
     "exception": false,
     "start_time": "2023-09-05T22:46:53.136858",
     "status": "completed"
    },
    "tags": []
   },
   "source": [
    "### Insights from Heatmap:\n",
    "**1. Columns that are similar with same values but with different metadata (duplicate columns)**\n",
    "  * Benefit per order, Order Profit per order\n",
    "  * Sales per customer, Sales, Order Item Total\n",
    "  * Category ID, Product Category ID, Order Customer ID, Order Item Category ID, Product card ID,\n",
    "  * Order Item Product Price,Product Price\n",
    "  A\n",
    "  \n",
    "**2. Unwanted features(null or less correlated values)**\n",
    "  * Product Description\n",
    "  * Product Status"
   ]
  },
  {
   "cell_type": "markdown",
   "metadata": {
    "papermill": {
     "duration": 0.025653,
     "end_time": "2023-09-05T22:46:53.214171",
     "exception": false,
     "start_time": "2023-09-05T22:46:53.188518",
     "status": "completed"
    },
    "tags": []
   },
   "source": [
    "## 3.4. Box plots for outlier analysis"
   ]
  },
  {
   "cell_type": "code",
   "execution_count": 11,
   "metadata": {
    "execution": {
     "iopub.execute_input": "2023-09-05T22:46:53.273262Z",
     "iopub.status.busy": "2023-09-05T22:46:53.272459Z",
     "iopub.status.idle": "2023-09-05T22:46:54.282180Z",
     "shell.execute_reply": "2023-09-05T22:46:54.281530Z",
     "shell.execute_reply.started": "2023-09-05T18:46:35.895908Z"
    },
    "papermill": {
     "duration": 1.042067,
     "end_time": "2023-09-05T22:46:54.282314",
     "exception": false,
     "start_time": "2023-09-05T22:46:53.240247",
     "status": "completed"
    },
    "tags": []
   },
   "outputs": [
    {
     "data": {
      "image/png": "[encoded data removed]",
      "text/plain": [
       "<Figure size 2160x1440 with 1 Axes>"
      ]
     },
     "metadata": {
      "needs_background": "light"
     },
     "output_type": "display_data"
    }
   ],
   "source": [
    "boxplot = data.boxplot(column=[f for f in data.columns if data[f].dtypes!='O'], figsize=(30,20), rot=45)"
   ]
  },
  {
   "cell_type": "code",
   "execution_count": 12,
   "metadata": {
    "execution": {
     "iopub.execute_input": "2023-09-05T22:46:54.340417Z",
     "iopub.status.busy": "2023-09-05T22:46:54.339690Z",
     "iopub.status.idle": "2023-09-05T22:46:54.347370Z",
     "shell.execute_reply": "2023-09-05T22:46:54.347980Z",
     "shell.execute_reply.started": "2023-09-05T18:48:45.676482Z"
    },
    "papermill": {
     "duration": 0.037989,
     "end_time": "2023-09-05T22:46:54.348139",
     "exception": false,
     "start_time": "2023-09-05T22:46:54.310150",
     "status": "completed"
    },
    "tags": []
   },
   "outputs": [],
   "source": [
    "def outlier_data(data: pd.DataFrame, col: str) -> pd.DataFrame:\n",
    "    Q1 = data[col].quantile(0.25)\n",
    "    Q3 = data[col].quantile(0.75)\n",
    "    IQR = Q3 - Q1\n",
    "\n",
    "    lower_bound = Q1 - 1.5*IQR\n",
    "    upper_bound = Q3 + 1.5*IQR\n",
    "\n",
    "    outlier = data[(data[col]<lower_bound)|(data[col]>upper_bound)][[col]]\n",
    "    return outlier"
   ]
  },
  {
   "cell_type": "code",
   "execution_count": 13,
   "metadata": {
    "execution": {
     "iopub.execute_input": "2023-09-05T22:46:54.404881Z",
     "iopub.status.busy": "2023-09-05T22:46:54.404164Z",
     "iopub.status.idle": "2023-09-05T22:46:54.974515Z",
     "shell.execute_reply": "2023-09-05T22:46:54.973193Z",
     "shell.execute_reply.started": "2023-09-05T18:48:47.427369Z"
    },
    "papermill": {
     "duration": 0.599746,
     "end_time": "2023-09-05T22:46:54.974658",
     "exception": false,
     "start_time": "2023-09-05T22:46:54.374912",
     "status": "completed"
    },
    "tags": []
   },
   "outputs": [
    {
     "name": "stdout",
     "output_type": "stream",
     "text": [
      "Column : Number of outiers\n",
      "Days for shipping (real)  :  0\n",
      "Days for shipment (scheduled)  :  0\n",
      "Benefit per order  :  18942\n",
      "Sales per customer  :  1943\n",
      "Late_delivery_risk  :  0\n",
      "Category Id  :  0\n",
      "Customer Id  :  1198\n",
      "Customer Zipcode  :  0\n",
      "Department Id  :  362\n",
      "Latitude  :  9\n",
      "Longitude  :  1414\n",
      "Order Customer Id  :  1198\n",
      "Order Id  :  0\n",
      "Order Item Cardprod Id  :  0\n",
      "Order Item Discount  :  7537\n",
      "Order Item Discount Rate  :  0\n",
      "Order Item Id  :  0\n",
      "Order Item Product Price  :  2048\n",
      "Order Item Profit Ratio  :  17300\n",
      "Order Item Quantity  :  0\n",
      "Sales  :  488\n",
      "Order Item Total  :  1943\n",
      "Order Profit Per Order  :  18942\n",
      "Order Zipcode  :  0\n",
      "Product Card Id  :  0\n",
      "Product Category Id  :  0\n",
      "Product Description  :  0\n",
      "Product Price  :  2048\n",
      "Product Status  :  0\n"
     ]
    }
   ],
   "source": [
    "num_cols = [f for f in data.columns if data[f].dtypes!='O']\n",
    "print(\"Column : Number of outiers\")\n",
    "for col in num_cols:\n",
    "    print(col,\" : \", len(outlier_data(data[num_cols], col)))"
   ]
  },
  {
   "cell_type": "code",
   "execution_count": 14,
   "metadata": {
    "execution": {
     "iopub.execute_input": "2023-09-05T22:46:55.039468Z",
     "iopub.status.busy": "2023-09-05T22:46:55.038305Z",
     "iopub.status.idle": "2023-09-05T22:46:55.041035Z",
     "shell.execute_reply": "2023-09-05T22:46:55.041602Z",
     "shell.execute_reply.started": "2023-09-05T18:51:17.742392Z"
    },
    "papermill": {
     "duration": 0.039858,
     "end_time": "2023-09-05T22:46:55.041830",
     "exception": false,
     "start_time": "2023-09-05T22:46:55.001972",
     "status": "completed"
    },
    "tags": []
   },
   "outputs": [],
   "source": [
    "def remove_outlier(data: pd.DataFrame, col: str):\n",
    "    for i in range(len(outlier_data(data, col)[col].unique())): # looping through each outlier value in current column\n",
    "        out_lier_data = outlier_data(data, col)[col].unique() # getting the outlier data values\n",
    "\n",
    "        # checking in case the current column has a outlier or not\n",
    "        out = outlier_data(data, col)[col].unique()[0] if (len(out_lier_data) > 0) else None\n",
    "        if out == None:\n",
    "            continue\n",
    "\n",
    "        index = data[data[col]==out].index.tolist() # get the index of outlier data\n",
    "        data.drop(index, inplace = True)\n",
    "    print(\"Outliers removed...\")"
   ]
  },
  {
   "cell_type": "code",
   "execution_count": 15,
   "metadata": {
    "execution": {
     "iopub.execute_input": "2023-09-05T22:46:55.113528Z",
     "iopub.status.busy": "2023-09-05T22:46:55.111675Z",
     "iopub.status.idle": "2023-09-05T22:52:57.396507Z",
     "shell.execute_reply": "2023-09-05T22:52:57.395709Z",
     "shell.execute_reply.started": "2023-09-05T18:51:34.125988Z"
    },
    "papermill": {
     "duration": 362.328358,
     "end_time": "2023-09-05T22:52:57.396654",
     "exception": false,
     "start_time": "2023-09-05T22:46:55.068296",
     "status": "completed"
    },
    "tags": []
   },
   "outputs": [
    {
     "name": "stdout",
     "output_type": "stream",
     "text": [
      "Days for shipping (real)\n",
      "Outliers removed...\n",
      "Days for shipment (scheduled)\n",
      "Outliers removed...\n",
      "Benefit per order\n",
      "Outliers removed...\n",
      "Sales per customer\n",
      "Outliers removed...\n",
      "Late_delivery_risk\n",
      "Outliers removed...\n",
      "Category Id\n",
      "Outliers removed...\n",
      "Customer Id\n",
      "Outliers removed...\n",
      "Customer Zipcode\n",
      "Outliers removed...\n",
      "Department Id\n",
      "Outliers removed...\n",
      "Latitude\n",
      "Outliers removed...\n",
      "Longitude\n",
      "Outliers removed...\n",
      "Order Customer Id\n",
      "Outliers removed...\n",
      "Order Id\n",
      "Outliers removed...\n",
      "Order Item Cardprod Id\n",
      "Outliers removed...\n",
      "Order Item Discount\n",
      "Outliers removed...\n",
      "Order Item Discount Rate\n",
      "Outliers removed...\n",
      "Order Item Id\n",
      "Outliers removed...\n",
      "Order Item Product Price\n",
      "Outliers removed...\n",
      "Order Item Profit Ratio\n",
      "Outliers removed...\n",
      "Order Item Quantity\n",
      "Outliers removed...\n",
      "Sales\n",
      "Outliers removed...\n",
      "Order Item Total\n",
      "Outliers removed...\n",
      "Order Profit Per Order\n",
      "Outliers removed...\n",
      "Order Zipcode\n",
      "Outliers removed...\n",
      "Product Card Id\n",
      "Outliers removed...\n",
      "Product Category Id\n",
      "Outliers removed...\n",
      "Product Description\n",
      "Outliers removed...\n",
      "Product Price\n",
      "Outliers removed...\n",
      "Product Status\n",
      "Outliers removed...\n"
     ]
    }
   ],
   "source": [
    "test1 = data[num_cols].copy()\n",
    "for i, col in enumerate(num_cols):\n",
    "    print(col)\n",
    "    remove_outlier(test1, col)"
   ]
  },
  {
   "cell_type": "code",
   "execution_count": 16,
   "metadata": {
    "execution": {
     "iopub.execute_input": "2023-09-05T22:52:57.476507Z",
     "iopub.status.busy": "2023-09-05T22:52:57.475737Z",
     "iopub.status.idle": "2023-09-05T22:52:59.476869Z",
     "shell.execute_reply": "2023-09-05T22:52:59.475673Z",
     "shell.execute_reply.started": "2023-09-05T19:12:22.820424Z"
    },
    "papermill": {
     "duration": 2.052303,
     "end_time": "2023-09-05T22:52:59.477053",
     "exception": false,
     "start_time": "2023-09-05T22:52:57.424750",
     "status": "completed"
    },
    "tags": []
   },
   "outputs": [
    {
     "name": "stdout",
     "output_type": "stream",
     "text": [
      "Days for shipping (real)\n",
      "mean w outlier :  3.497654\n",
      "mean w/o outlier :  3.496098\n",
      "% change in mean after removing outlier :  0.044473 %\n",
      "median w outlier :  3.0\n",
      "median w/o outlier :  3.0\n",
      "% change in median after removing outlier :  0.0 %\n",
      "--------------------------------------------------\n",
      "Days for shipment (scheduled)\n",
      "mean w outlier :  2.931847\n",
      "mean w/o outlier :  2.928429\n",
      "% change in mean after removing outlier :  0.116566 %\n",
      "median w outlier :  4.0\n",
      "median w/o outlier :  4.0\n",
      "% change in median after removing outlier :  0.0 %\n",
      "--------------------------------------------------\n",
      "Benefit per order\n",
      "mean w outlier :  21.974989\n",
      "mean w/o outlier :  32.909212\n",
      "% change in mean after removing outlier :  -49.757585 %\n",
      "median w outlier :  31.52\n",
      "median w/o outlier :  30.16\n",
      "% change in median after removing outlier :  4.314723 %\n",
      "--------------------------------------------------\n",
      "Sales per customer\n",
      "mean w outlier :  183.107609\n",
      "mean w/o outlier :  133.305728\n",
      "% change in mean after removing outlier :  27.198149 %\n",
      "median w outlier :  163.990005\n",
      "median w/o outlier :  125.949997\n",
      "% change in median after removing outlier :  23.196541 %\n",
      "--------------------------------------------------\n",
      "Late_delivery_risk\n",
      "mean w outlier :  0.548291\n",
      "mean w/o outlier :  0.548467\n",
      "% change in mean after removing outlier :  -0.031953 %\n",
      "median w outlier :  1.0\n",
      "median w/o outlier :  1.0\n",
      "% change in median after removing outlier :  0.0 %\n",
      "--------------------------------------------------\n",
      "Category Id\n",
      "mean w outlier :  31.851451\n",
      "mean w/o outlier :  28.77468\n",
      "% change in mean after removing outlier :  9.659751 %\n",
      "median w outlier :  29.0\n",
      "median w/o outlier :  24.0\n",
      "% change in median after removing outlier :  17.241379 %\n",
      "--------------------------------------------------\n",
      "Customer Id\n",
      "mean w outlier :  6691.379495\n",
      "mean w/o outlier :  6416.682529\n",
      "% change in mean after removing outlier :  4.105237 %\n",
      "median w outlier :  6457.0\n",
      "median w/o outlier :  6288.0\n",
      "% change in median after removing outlier :  2.617315 %\n",
      "--------------------------------------------------\n",
      "Customer Zipcode\n",
      "mean w outlier :  35921.126914\n",
      "mean w/o outlier :  35440.910277\n",
      "% change in mean after removing outlier :  1.336864 %\n",
      "median w outlier :  19380.0\n",
      "median w/o outlier :  19139.0\n",
      "% change in median after removing outlier :  1.24355 %\n",
      "--------------------------------------------------\n",
      "Department Id\n",
      "mean w outlier :  5.44346\n",
      "mean w/o outlier :  5.138677\n",
      "% change in mean after removing outlier :  5.599067 %\n",
      "median w outlier :  5.0\n",
      "median w/o outlier :  5.0\n",
      "% change in median after removing outlier :  0.0 %\n",
      "--------------------------------------------------\n",
      "Latitude\n",
      "mean w outlier :  29.719955\n",
      "mean w/o outlier :  29.755654\n",
      "% change in mean after removing outlier :  -0.12012 %\n",
      "median w outlier :  33.144863\n",
      "median w/o outlier :  33.21122\n",
      "% change in median after removing outlier :  -0.200202 %\n",
      "--------------------------------------------------\n",
      "Longitude\n",
      "mean w outlier :  -84.915675\n",
      "mean w/o outlier :  -84.569028\n",
      "% change in mean after removing outlier :  0.408225 %\n",
      "median w outlier :  -76.847908\n",
      "median w/o outlier :  -76.685005\n",
      "% change in median after removing outlier :  0.211981 %\n",
      "--------------------------------------------------\n",
      "Order Customer Id\n",
      "mean w outlier :  6691.379495\n",
      "mean w/o outlier :  6416.682529\n",
      "% change in mean after removing outlier :  4.105237 %\n",
      "median w outlier :  6457.0\n",
      "median w/o outlier :  6288.0\n",
      "% change in median after removing outlier :  2.617315 %\n",
      "--------------------------------------------------\n",
      "Order Id\n",
      "mean w outlier :  36221.894903\n",
      "mean w/o outlier :  35043.786005\n",
      "% change in mean after removing outlier :  3.252477 %\n",
      "median w outlier :  36140.0\n",
      "median w/o outlier :  35006.0\n",
      "% change in median after removing outlier :  3.137797 %\n",
      "--------------------------------------------------\n",
      "Order Item Cardprod Id\n",
      "mean w outlier :  692.509764\n",
      "mean w/o outlier :  626.212301\n",
      "% change in mean after removing outlier :  9.573506 %\n",
      "median w outlier :  627.0\n",
      "median w/o outlier :  502.0\n",
      "% change in median after removing outlier :  19.936204 %\n",
      "--------------------------------------------------\n",
      "Order Item Discount\n",
      "mean w outlier :  20.664741\n",
      "mean w/o outlier :  14.678306\n",
      "% change in mean after removing outlier :  28.969322 %\n",
      "median w outlier :  14.0\n",
      "median w/o outlier :  11.0\n",
      "% change in median after removing outlier :  21.428571 %\n",
      "--------------------------------------------------\n",
      "Order Item Discount Rate\n",
      "mean w outlier :  0.101668\n",
      "mean w/o outlier :  0.100428\n",
      "% change in mean after removing outlier :  1.219472 %\n",
      "median w outlier :  0.1\n",
      "median w/o outlier :  0.09\n",
      "% change in median after removing outlier :  9.999996 %\n",
      "--------------------------------------------------\n",
      "Order Item Id\n",
      "mean w outlier :  90260.0\n",
      "mean w/o outlier :  87488.474367\n",
      "% change in mean after removing outlier :  3.070602 %\n",
      "median w outlier :  90260.0\n",
      "median w/o outlier :  87444.0\n",
      "% change in median after removing outlier :  3.119876 %\n",
      "--------------------------------------------------\n",
      "Order Item Product Price\n",
      "mean w outlier :  141.23255\n",
      "mean w/o outlier :  84.01993\n",
      "% change in mean after removing outlier :  40.509514 %\n",
      "median w outlier :  59.990002\n",
      "median w/o outlier :  59.990002\n",
      "% change in median after removing outlier :  0.0 %\n",
      "--------------------------------------------------\n",
      "Order Item Profit Ratio\n",
      "mean w outlier :  0.120647\n",
      "mean w/o outlier :  0.248771\n",
      "% change in mean after removing outlier :  -106.198344 %\n",
      "median w outlier :  0.27\n",
      "median w/o outlier :  0.29\n",
      "% change in median after removing outlier :  -7.4074 %\n",
      "--------------------------------------------------\n",
      "Order Item Quantity\n",
      "mean w outlier :  2.127638\n",
      "mean w/o outlier :  2.277663\n",
      "% change in mean after removing outlier :  -7.051282 %\n",
      "median w outlier :  1.0\n",
      "median w/o outlier :  2.0\n",
      "% change in median after removing outlier :  -99.999999 %\n",
      "--------------------------------------------------\n",
      "Sales\n",
      "mean w outlier :  203.772096\n",
      "mean w/o outlier :  147.983865\n",
      "% change in mean after removing outlier :  27.377758 %\n",
      "median w outlier :  199.919998\n",
      "median w/o outlier :  129.990005\n",
      "% change in median after removing outlier :  34.978988 %\n",
      "--------------------------------------------------\n",
      "Order Item Total\n",
      "mean w outlier :  183.107609\n",
      "mean w/o outlier :  133.305728\n",
      "% change in mean after removing outlier :  27.198149 %\n",
      "median w outlier :  163.990005\n",
      "median w/o outlier :  125.949997\n",
      "% change in median after removing outlier :  23.196541 %\n",
      "--------------------------------------------------\n",
      "Order Profit Per Order\n",
      "mean w outlier :  21.974989\n",
      "mean w/o outlier :  32.909212\n",
      "% change in mean after removing outlier :  -49.757585 %\n",
      "median w outlier :  31.52\n",
      "median w/o outlier :  30.16\n",
      "% change in median after removing outlier :  4.314723 %\n",
      "--------------------------------------------------\n",
      "Order Zipcode\n",
      "mean w outlier :  55426.132327\n",
      "mean w/o outlier :  55396.946579\n",
      "% change in mean after removing outlier :  0.052657 %\n",
      "median w outlier :  59405.0\n",
      "median w/o outlier :  57103.0\n",
      "% change in median after removing outlier :  3.875095 %\n",
      "--------------------------------------------------\n",
      "Product Card Id\n",
      "mean w outlier :  692.509764\n",
      "mean w/o outlier :  626.212301\n",
      "% change in mean after removing outlier :  9.573506 %\n",
      "median w outlier :  627.0\n",
      "median w/o outlier :  502.0\n",
      "% change in median after removing outlier :  19.936204 %\n",
      "--------------------------------------------------\n",
      "Product Category Id\n",
      "mean w outlier :  31.851451\n",
      "mean w/o outlier :  28.77468\n",
      "% change in mean after removing outlier :  9.659751 %\n",
      "median w outlier :  29.0\n",
      "median w/o outlier :  24.0\n",
      "% change in median after removing outlier :  17.241379 %\n",
      "--------------------------------------------------\n",
      "Product Description\n",
      "mean w outlier :  nan\n",
      "mean w/o outlier :  nan\n",
      "% change in mean after removing outlier :  nan %\n",
      "median w outlier :  nan\n",
      "median w/o outlier :  nan\n",
      "% change in median after removing outlier :  nan %\n",
      "--------------------------------------------------\n",
      "Product Price\n",
      "mean w outlier :  141.23255\n",
      "mean w/o outlier :  84.01993\n",
      "% change in mean after removing outlier :  40.509514 %\n",
      "median w outlier :  59.990002\n",
      "median w/o outlier :  59.990002\n",
      "% change in median after removing outlier :  0.0 %\n",
      "--------------------------------------------------\n",
      "Product Status\n",
      "mean w outlier :  0.0\n",
      "mean w/o outlier :  0.0\n",
      "% change in mean after removing outlier :  0.0 %\n",
      "median w outlier :  0.0\n",
      "median w/o outlier :  0.0\n",
      "% change in median after removing outlier :  0.0 %\n",
      "--------------------------------------------------\n"
     ]
    }
   ],
   "source": [
    "for i, col in enumerate(num_cols):\n",
    "    mean_change = round(((data[num_cols][col].mean()-test1[col].mean())/(data[num_cols][col].mean()+1e-8))*100, 6)\n",
    "    median_change = round(((data[num_cols][col].median()-test1[col].median())/(data[num_cols][col].median()+1e-8))*100, 6)\n",
    "    print(col)\n",
    "    print(\"mean w outlier : \", round(data[num_cols][col].mean(), 6))\n",
    "    print(\"mean w/o outlier : \", round(test1[col].mean(), 6))\n",
    "    print(\"% change in mean after removing outlier : \", mean_change, \"%\")\n",
    "    print(\"median w outlier : \", round(data[num_cols][col].median(), 6))\n",
    "    print(\"median w/o outlier : \", round(test1[col].median(), 6))\n",
    "    print(\"% change in median after removing outlier : \", median_change, \"%\")\n",
    "    print('--------------------------------------------------')"
   ]
  },
  {
   "cell_type": "markdown",
   "metadata": {
    "papermill": {
     "duration": 0.029923,
     "end_time": "2023-09-05T22:52:59.537023",
     "exception": false,
     "start_time": "2023-09-05T22:52:59.507100",
     "status": "completed"
    },
    "tags": []
   },
   "source": [
    "# 4. Feature Engineering"
   ]
  },
  {
   "cell_type": "markdown",
   "metadata": {
    "papermill": {
     "duration": 0.029085,
     "end_time": "2023-09-05T22:52:59.595546",
     "exception": false,
     "start_time": "2023-09-05T22:52:59.566461",
     "status": "completed"
    },
    "tags": []
   },
   "source": [
    "**Splitting dataset into smaller datasets for domain usage and easier modelling**\n",
    "1. Finance features\n",
    "2. Shipment day estimation features"
   ]
  },
  {
   "cell_type": "code",
   "execution_count": 17,
   "metadata": {
    "execution": {
     "iopub.execute_input": "2023-09-05T22:52:59.660284Z",
     "iopub.status.busy": "2023-09-05T22:52:59.659295Z",
     "iopub.status.idle": "2023-09-05T22:52:59.662356Z",
     "shell.execute_reply": "2023-09-05T22:52:59.661585Z"
    },
    "papermill": {
     "duration": 0.036917,
     "end_time": "2023-09-05T22:52:59.662486",
     "exception": false,
     "start_time": "2023-09-05T22:52:59.625569",
     "status": "completed"
    },
    "tags": []
   },
   "outputs": [],
   "source": [
    "# we did not select the features that were similar to each other (found via correlation heatmap)"
   ]
  },
  {
   "cell_type": "code",
   "execution_count": 18,
   "metadata": {
    "execution": {
     "iopub.execute_input": "2023-09-05T22:52:59.731835Z",
     "iopub.status.busy": "2023-09-05T22:52:59.730454Z",
     "iopub.status.idle": "2023-09-05T22:52:59.768666Z",
     "shell.execute_reply": "2023-09-05T22:52:59.768047Z",
     "shell.execute_reply.started": "2023-09-05T19:16:06.683831Z"
    },
    "papermill": {
     "duration": 0.076818,
     "end_time": "2023-09-05T22:52:59.768858",
     "exception": false,
     "start_time": "2023-09-05T22:52:59.692040",
     "status": "completed"
    },
    "tags": []
   },
   "outputs": [
    {
     "data": {
      "text/html": [
       "<div>\n",
       "<style scoped>\n",
       "    .dataframe tbody tr th:only-of-type {\n",
       "        vertical-align: middle;\n",
       "    }\n",
       "\n",
       "    .dataframe tbody tr th {\n",
       "        vertical-align: top;\n",
       "    }\n",
       "\n",
       "    .dataframe thead th {\n",
       "        text-align: right;\n",
       "    }\n",
       "</style>\n",
       "<table border=\"1\" class=\"dataframe\">\n",
       "  <thead>\n",
       "    <tr style=\"text-align: right;\">\n",
       "      <th></th>\n",
       "      <th>Type</th>\n",
       "      <th>Days for shipping (real)</th>\n",
       "      <th>Days for shipment (scheduled)</th>\n",
       "      <th>Late_delivery_risk</th>\n",
       "      <th>Benefit per order</th>\n",
       "      <th>Sales per customer</th>\n",
       "      <th>Latitude</th>\n",
       "      <th>Longitude</th>\n",
       "      <th>Shipping Mode</th>\n",
       "      <th>Order Status</th>\n",
       "      <th>Order Region</th>\n",
       "      <th>Order Country</th>\n",
       "      <th>Order City</th>\n",
       "      <th>Market</th>\n",
       "      <th>Delivery Status</th>\n",
       "    </tr>\n",
       "  </thead>\n",
       "  <tbody>\n",
       "    <tr>\n",
       "      <th>0</th>\n",
       "      <td>DEBIT</td>\n",
       "      <td>3</td>\n",
       "      <td>4</td>\n",
       "      <td>0</td>\n",
       "      <td>91.250000</td>\n",
       "      <td>314.640015</td>\n",
       "      <td>18.251453</td>\n",
       "      <td>-66.037056</td>\n",
       "      <td>Standard Class</td>\n",
       "      <td>COMPLETE</td>\n",
       "      <td>Southeast Asia</td>\n",
       "      <td>Indonesia</td>\n",
       "      <td>Bekasi</td>\n",
       "      <td>Pacific Asia</td>\n",
       "      <td>Advance shipping</td>\n",
       "    </tr>\n",
       "    <tr>\n",
       "      <th>1</th>\n",
       "      <td>TRANSFER</td>\n",
       "      <td>5</td>\n",
       "      <td>4</td>\n",
       "      <td>1</td>\n",
       "      <td>-249.089996</td>\n",
       "      <td>311.359985</td>\n",
       "      <td>18.279451</td>\n",
       "      <td>-66.037064</td>\n",
       "      <td>Standard Class</td>\n",
       "      <td>PENDING</td>\n",
       "      <td>South Asia</td>\n",
       "      <td>India</td>\n",
       "      <td>Bikaner</td>\n",
       "      <td>Pacific Asia</td>\n",
       "      <td>Late delivery</td>\n",
       "    </tr>\n",
       "    <tr>\n",
       "      <th>2</th>\n",
       "      <td>CASH</td>\n",
       "      <td>4</td>\n",
       "      <td>4</td>\n",
       "      <td>0</td>\n",
       "      <td>-247.779999</td>\n",
       "      <td>309.720001</td>\n",
       "      <td>37.292233</td>\n",
       "      <td>-121.881279</td>\n",
       "      <td>Standard Class</td>\n",
       "      <td>CLOSED</td>\n",
       "      <td>South Asia</td>\n",
       "      <td>India</td>\n",
       "      <td>Bikaner</td>\n",
       "      <td>Pacific Asia</td>\n",
       "      <td>Shipping on time</td>\n",
       "    </tr>\n",
       "    <tr>\n",
       "      <th>3</th>\n",
       "      <td>DEBIT</td>\n",
       "      <td>3</td>\n",
       "      <td>4</td>\n",
       "      <td>0</td>\n",
       "      <td>22.860001</td>\n",
       "      <td>304.809998</td>\n",
       "      <td>34.125946</td>\n",
       "      <td>-118.291016</td>\n",
       "      <td>Standard Class</td>\n",
       "      <td>COMPLETE</td>\n",
       "      <td>Oceania</td>\n",
       "      <td>Australia</td>\n",
       "      <td>Townsville</td>\n",
       "      <td>Pacific Asia</td>\n",
       "      <td>Advance shipping</td>\n",
       "    </tr>\n",
       "    <tr>\n",
       "      <th>4</th>\n",
       "      <td>PAYMENT</td>\n",
       "      <td>2</td>\n",
       "      <td>4</td>\n",
       "      <td>0</td>\n",
       "      <td>134.210007</td>\n",
       "      <td>298.250000</td>\n",
       "      <td>18.253769</td>\n",
       "      <td>-66.037048</td>\n",
       "      <td>Standard Class</td>\n",
       "      <td>PENDING_PAYMENT</td>\n",
       "      <td>Oceania</td>\n",
       "      <td>Australia</td>\n",
       "      <td>Townsville</td>\n",
       "      <td>Pacific Asia</td>\n",
       "      <td>Advance shipping</td>\n",
       "    </tr>\n",
       "  </tbody>\n",
       "</table>\n",
       "</div>"
      ],
      "text/plain": [
       "       Type  Days for shipping (real)  Days for shipment (scheduled)  \\\n",
       "0     DEBIT                         3                              4   \n",
       "1  TRANSFER                         5                              4   \n",
       "2      CASH                         4                              4   \n",
       "3     DEBIT                         3                              4   \n",
       "4   PAYMENT                         2                              4   \n",
       "\n",
       "   Late_delivery_risk  Benefit per order  Sales per customer   Latitude  \\\n",
       "0                   0          91.250000          314.640015  18.251453   \n",
       "1                   1        -249.089996          311.359985  18.279451   \n",
       "2                   0        -247.779999          309.720001  37.292233   \n",
       "3                   0          22.860001          304.809998  34.125946   \n",
       "4                   0         134.210007          298.250000  18.253769   \n",
       "\n",
       "    Longitude   Shipping Mode     Order Status    Order Region Order Country  \\\n",
       "0  -66.037056  Standard Class         COMPLETE  Southeast Asia     Indonesia   \n",
       "1  -66.037064  Standard Class          PENDING      South Asia         India   \n",
       "2 -121.881279  Standard Class           CLOSED      South Asia         India   \n",
       "3 -118.291016  Standard Class         COMPLETE         Oceania     Australia   \n",
       "4  -66.037048  Standard Class  PENDING_PAYMENT         Oceania     Australia   \n",
       "\n",
       "   Order City        Market   Delivery Status  \n",
       "0      Bekasi  Pacific Asia  Advance shipping  \n",
       "1     Bikaner  Pacific Asia     Late delivery  \n",
       "2     Bikaner  Pacific Asia  Shipping on time  \n",
       "3  Townsville  Pacific Asia  Advance shipping  \n",
       "4  Townsville  Pacific Asia  Advance shipping  "
      ]
     },
     "execution_count": 18,
     "metadata": {},
     "output_type": "execute_result"
    }
   ],
   "source": [
    "shipment_features = ['Type','Days for shipping (real)','Days for shipment (scheduled)','Late_delivery_risk','Benefit per order',\n",
    "                        'Sales per customer','Latitude','Longitude','Shipping Mode','Order Status','Order Region',\n",
    "                        'Order Country','Order City','Market','Delivery Status']\n",
    "shipment = data[shipment_features]\n",
    "shipment.head()"
   ]
  },
  {
   "cell_type": "code",
   "execution_count": 19,
   "metadata": {
    "execution": {
     "iopub.execute_input": "2023-09-05T22:52:59.847615Z",
     "iopub.status.busy": "2023-09-05T22:52:59.846332Z",
     "iopub.status.idle": "2023-09-05T22:52:59.851550Z",
     "shell.execute_reply": "2023-09-05T22:52:59.850828Z",
     "shell.execute_reply.started": "2023-09-05T19:16:07.795732Z"
    },
    "papermill": {
     "duration": 0.053045,
     "end_time": "2023-09-05T22:52:59.851697",
     "exception": false,
     "start_time": "2023-09-05T22:52:59.798652",
     "status": "completed"
    },
    "tags": []
   },
   "outputs": [
    {
     "data": {
      "text/html": [
       "<div>\n",
       "<style scoped>\n",
       "    .dataframe tbody tr th:only-of-type {\n",
       "        vertical-align: middle;\n",
       "    }\n",
       "\n",
       "    .dataframe tbody tr th {\n",
       "        vertical-align: top;\n",
       "    }\n",
       "\n",
       "    .dataframe thead th {\n",
       "        text-align: right;\n",
       "    }\n",
       "</style>\n",
       "<table border=\"1\" class=\"dataframe\">\n",
       "  <thead>\n",
       "    <tr style=\"text-align: right;\">\n",
       "      <th></th>\n",
       "      <th>Benefit per order</th>\n",
       "      <th>Sales per customer</th>\n",
       "      <th>Order Item Discount</th>\n",
       "      <th>Order Item Discount Rate</th>\n",
       "      <th>Order Item Product Price</th>\n",
       "      <th>Order Item Profit Ratio</th>\n",
       "    </tr>\n",
       "  </thead>\n",
       "  <tbody>\n",
       "    <tr>\n",
       "      <th>0</th>\n",
       "      <td>91.250000</td>\n",
       "      <td>314.640015</td>\n",
       "      <td>13.110000</td>\n",
       "      <td>0.04</td>\n",
       "      <td>327.75</td>\n",
       "      <td>0.29</td>\n",
       "    </tr>\n",
       "    <tr>\n",
       "      <th>1</th>\n",
       "      <td>-249.089996</td>\n",
       "      <td>311.359985</td>\n",
       "      <td>16.389999</td>\n",
       "      <td>0.05</td>\n",
       "      <td>327.75</td>\n",
       "      <td>-0.80</td>\n",
       "    </tr>\n",
       "    <tr>\n",
       "      <th>2</th>\n",
       "      <td>-247.779999</td>\n",
       "      <td>309.720001</td>\n",
       "      <td>18.030001</td>\n",
       "      <td>0.06</td>\n",
       "      <td>327.75</td>\n",
       "      <td>-0.80</td>\n",
       "    </tr>\n",
       "    <tr>\n",
       "      <th>3</th>\n",
       "      <td>22.860001</td>\n",
       "      <td>304.809998</td>\n",
       "      <td>22.940001</td>\n",
       "      <td>0.07</td>\n",
       "      <td>327.75</td>\n",
       "      <td>0.08</td>\n",
       "    </tr>\n",
       "    <tr>\n",
       "      <th>4</th>\n",
       "      <td>134.210007</td>\n",
       "      <td>298.250000</td>\n",
       "      <td>29.500000</td>\n",
       "      <td>0.09</td>\n",
       "      <td>327.75</td>\n",
       "      <td>0.45</td>\n",
       "    </tr>\n",
       "  </tbody>\n",
       "</table>\n",
       "</div>"
      ],
      "text/plain": [
       "   Benefit per order  Sales per customer  Order Item Discount  \\\n",
       "0          91.250000          314.640015            13.110000   \n",
       "1        -249.089996          311.359985            16.389999   \n",
       "2        -247.779999          309.720001            18.030001   \n",
       "3          22.860001          304.809998            22.940001   \n",
       "4         134.210007          298.250000            29.500000   \n",
       "\n",
       "   Order Item Discount Rate  Order Item Product Price  Order Item Profit Ratio  \n",
       "0                      0.04                    327.75                     0.29  \n",
       "1                      0.05                    327.75                    -0.80  \n",
       "2                      0.06                    327.75                    -0.80  \n",
       "3                      0.07                    327.75                     0.08  \n",
       "4                      0.09                    327.75                     0.45  "
      ]
     },
     "execution_count": 19,
     "metadata": {},
     "output_type": "execute_result"
    }
   ],
   "source": [
    "finance_features=['Benefit per order','Sales per customer','Order Item Discount','Order Item Discount Rate',\n",
    "                  'Order Item Product Price','Order Item Profit Ratio']\n",
    "finance = data[finance_features]\n",
    "finance.head()"
   ]
  },
  {
   "cell_type": "code",
   "execution_count": 20,
   "metadata": {
    "execution": {
     "iopub.execute_input": "2023-09-05T22:52:59.920760Z",
     "iopub.status.busy": "2023-09-05T22:52:59.920036Z",
     "iopub.status.idle": "2023-09-05T22:53:45.272226Z",
     "shell.execute_reply": "2023-09-05T22:53:45.271486Z",
     "shell.execute_reply.started": "2023-09-05T19:17:06.523529Z"
    },
    "papermill": {
     "duration": 45.390756,
     "end_time": "2023-09-05T22:53:45.272368",
     "exception": false,
     "start_time": "2023-09-05T22:52:59.881612",
     "status": "completed"
    },
    "tags": []
   },
   "outputs": [],
   "source": [
    "# Converting categorical features that represent date and time to datetime datatype.\n",
    "data['order_date'] = pd.to_datetime(data['order date (DateOrders)'])\n",
    "data['shipping_date']=pd.to_datetime(data['shipping date (DateOrders)'])"
   ]
  },
  {
   "cell_type": "code",
   "execution_count": 21,
   "metadata": {
    "execution": {
     "iopub.execute_input": "2023-09-05T22:53:45.342005Z",
     "iopub.status.busy": "2023-09-05T22:53:45.341019Z",
     "iopub.status.idle": "2023-09-05T22:53:45.468101Z",
     "shell.execute_reply": "2023-09-05T22:53:45.467426Z",
     "shell.execute_reply.started": "2023-09-05T19:18:18.490247Z"
    },
    "papermill": {
     "duration": 0.165797,
     "end_time": "2023-09-05T22:53:45.468258",
     "exception": false,
     "start_time": "2023-09-05T22:53:45.302461",
     "status": "completed"
    },
    "tags": []
   },
   "outputs": [],
   "source": [
    "# Handling Time and date variables\n",
    "data['order_year'] = pd.DatetimeIndex(data['order_date']).year\n",
    "data['order_month'] = pd.DatetimeIndex(data['order_date']).month\n",
    "data['order_day'] = pd.DatetimeIndex(data['order_date']).day\n",
    "data['shipping_year'] = pd.DatetimeIndex(data['shipping_date']).year\n",
    "data['shipping_month'] = pd.DatetimeIndex(data['shipping_date']).month\n",
    "data['shipping_day'] = pd.DatetimeIndex(data['shipping_date']).day"
   ]
  },
  {
   "cell_type": "code",
   "execution_count": 22,
   "metadata": {
    "execution": {
     "iopub.execute_input": "2023-09-05T22:53:45.592635Z",
     "iopub.status.busy": "2023-09-05T22:53:45.591552Z",
     "iopub.status.idle": "2023-09-05T22:53:45.597777Z",
     "shell.execute_reply": "2023-09-05T22:53:45.597017Z",
     "shell.execute_reply.started": "2023-09-05T19:18:21.687613Z"
    },
    "papermill": {
     "duration": 0.09811,
     "end_time": "2023-09-05T22:53:45.597913",
     "exception": false,
     "start_time": "2023-09-05T22:53:45.499803",
     "status": "completed"
    },
    "tags": []
   },
   "outputs": [
    {
     "data": {
      "text/html": [
       "<div>\n",
       "<style scoped>\n",
       "    .dataframe tbody tr th:only-of-type {\n",
       "        vertical-align: middle;\n",
       "    }\n",
       "\n",
       "    .dataframe tbody tr th {\n",
       "        vertical-align: top;\n",
       "    }\n",
       "\n",
       "    .dataframe thead th {\n",
       "        text-align: right;\n",
       "    }\n",
       "</style>\n",
       "<table border=\"1\" class=\"dataframe\">\n",
       "  <thead>\n",
       "    <tr style=\"text-align: right;\">\n",
       "      <th></th>\n",
       "      <th>Type</th>\n",
       "      <th>Days for shipping (real)</th>\n",
       "      <th>Days for shipment (scheduled)</th>\n",
       "      <th>Benefit per order</th>\n",
       "      <th>Sales per customer</th>\n",
       "      <th>Delivery Status</th>\n",
       "      <th>Late_delivery_risk</th>\n",
       "      <th>Category Id</th>\n",
       "      <th>Category Name</th>\n",
       "      <th>Customer City</th>\n",
       "      <th>Customer Country</th>\n",
       "      <th>Customer Email</th>\n",
       "      <th>Customer Fname</th>\n",
       "      <th>Customer Id</th>\n",
       "      <th>Customer Lname</th>\n",
       "      <th>Customer Password</th>\n",
       "      <th>Customer Segment</th>\n",
       "      <th>Customer State</th>\n",
       "      <th>Customer Street</th>\n",
       "      <th>Customer Zipcode</th>\n",
       "      <th>Department Id</th>\n",
       "      <th>Department Name</th>\n",
       "      <th>Latitude</th>\n",
       "      <th>Longitude</th>\n",
       "      <th>Market</th>\n",
       "      <th>Order City</th>\n",
       "      <th>Order Country</th>\n",
       "      <th>Order Customer Id</th>\n",
       "      <th>order date (DateOrders)</th>\n",
       "      <th>Order Id</th>\n",
       "      <th>Order Item Cardprod Id</th>\n",
       "      <th>Order Item Discount</th>\n",
       "      <th>Order Item Discount Rate</th>\n",
       "      <th>Order Item Id</th>\n",
       "      <th>Order Item Product Price</th>\n",
       "      <th>Order Item Profit Ratio</th>\n",
       "      <th>Order Item Quantity</th>\n",
       "      <th>Sales</th>\n",
       "      <th>Order Item Total</th>\n",
       "      <th>Order Profit Per Order</th>\n",
       "      <th>Order Region</th>\n",
       "      <th>Order State</th>\n",
       "      <th>Order Status</th>\n",
       "      <th>Order Zipcode</th>\n",
       "      <th>Product Card Id</th>\n",
       "      <th>Product Category Id</th>\n",
       "      <th>Product Description</th>\n",
       "      <th>Product Image</th>\n",
       "      <th>Product Name</th>\n",
       "      <th>Product Price</th>\n",
       "      <th>Product Status</th>\n",
       "      <th>shipping date (DateOrders)</th>\n",
       "      <th>Shipping Mode</th>\n",
       "      <th>order_date</th>\n",
       "      <th>shipping_date</th>\n",
       "      <th>order_year</th>\n",
       "      <th>order_month</th>\n",
       "      <th>order_day</th>\n",
       "      <th>shipping_year</th>\n",
       "      <th>shipping_month</th>\n",
       "      <th>shipping_day</th>\n",
       "    </tr>\n",
       "  </thead>\n",
       "  <tbody>\n",
       "    <tr>\n",
       "      <th>0</th>\n",
       "      <td>DEBIT</td>\n",
       "      <td>3</td>\n",
       "      <td>4</td>\n",
       "      <td>91.250000</td>\n",
       "      <td>314.640015</td>\n",
       "      <td>Advance shipping</td>\n",
       "      <td>0</td>\n",
       "      <td>73</td>\n",
       "      <td>Sporting Goods</td>\n",
       "      <td>Caguas</td>\n",
       "      <td>Puerto Rico</td>\n",
       "      <td>XXXXXXXXX</td>\n",
       "      <td>Cally</td>\n",
       "      <td>20755</td>\n",
       "      <td>Holloway</td>\n",
       "      <td>XXXXXXXXX</td>\n",
       "      <td>Consumer</td>\n",
       "      <td>PR</td>\n",
       "      <td>5365 Noble Nectar Island</td>\n",
       "      <td>725.0</td>\n",
       "      <td>2</td>\n",
       "      <td>Fitness</td>\n",
       "      <td>18.251453</td>\n",
       "      <td>-66.037056</td>\n",
       "      <td>Pacific Asia</td>\n",
       "      <td>Bekasi</td>\n",
       "      <td>Indonesia</td>\n",
       "      <td>20755</td>\n",
       "      <td>1/31/2018 22:56</td>\n",
       "      <td>77202</td>\n",
       "      <td>1360</td>\n",
       "      <td>13.110000</td>\n",
       "      <td>0.04</td>\n",
       "      <td>180517</td>\n",
       "      <td>327.75</td>\n",
       "      <td>0.29</td>\n",
       "      <td>1</td>\n",
       "      <td>327.75</td>\n",
       "      <td>314.640015</td>\n",
       "      <td>91.250000</td>\n",
       "      <td>Southeast Asia</td>\n",
       "      <td>Java Occidental</td>\n",
       "      <td>COMPLETE</td>\n",
       "      <td>NaN</td>\n",
       "      <td>1360</td>\n",
       "      <td>73</td>\n",
       "      <td>NaN</td>\n",
       "      <td>http://images.acmesports.sports/Smart+watch</td>\n",
       "      <td>Smart watch</td>\n",
       "      <td>327.75</td>\n",
       "      <td>0</td>\n",
       "      <td>2/3/2018 22:56</td>\n",
       "      <td>Standard Class</td>\n",
       "      <td>2018-01-31 22:56:00</td>\n",
       "      <td>2018-02-03 22:56:00</td>\n",
       "      <td>2018</td>\n",
       "      <td>1</td>\n",
       "      <td>31</td>\n",
       "      <td>2018</td>\n",
       "      <td>2</td>\n",
       "      <td>3</td>\n",
       "    </tr>\n",
       "    <tr>\n",
       "      <th>1</th>\n",
       "      <td>TRANSFER</td>\n",
       "      <td>5</td>\n",
       "      <td>4</td>\n",
       "      <td>-249.089996</td>\n",
       "      <td>311.359985</td>\n",
       "      <td>Late delivery</td>\n",
       "      <td>1</td>\n",
       "      <td>73</td>\n",
       "      <td>Sporting Goods</td>\n",
       "      <td>Caguas</td>\n",
       "      <td>Puerto Rico</td>\n",
       "      <td>XXXXXXXXX</td>\n",
       "      <td>Irene</td>\n",
       "      <td>19492</td>\n",
       "      <td>Luna</td>\n",
       "      <td>XXXXXXXXX</td>\n",
       "      <td>Consumer</td>\n",
       "      <td>PR</td>\n",
       "      <td>2679 Rustic Loop</td>\n",
       "      <td>725.0</td>\n",
       "      <td>2</td>\n",
       "      <td>Fitness</td>\n",
       "      <td>18.279451</td>\n",
       "      <td>-66.037064</td>\n",
       "      <td>Pacific Asia</td>\n",
       "      <td>Bikaner</td>\n",
       "      <td>India</td>\n",
       "      <td>19492</td>\n",
       "      <td>1/13/2018 12:27</td>\n",
       "      <td>75939</td>\n",
       "      <td>1360</td>\n",
       "      <td>16.389999</td>\n",
       "      <td>0.05</td>\n",
       "      <td>179254</td>\n",
       "      <td>327.75</td>\n",
       "      <td>-0.80</td>\n",
       "      <td>1</td>\n",
       "      <td>327.75</td>\n",
       "      <td>311.359985</td>\n",
       "      <td>-249.089996</td>\n",
       "      <td>South Asia</td>\n",
       "      <td>Rajastán</td>\n",
       "      <td>PENDING</td>\n",
       "      <td>NaN</td>\n",
       "      <td>1360</td>\n",
       "      <td>73</td>\n",
       "      <td>NaN</td>\n",
       "      <td>http://images.acmesports.sports/Smart+watch</td>\n",
       "      <td>Smart watch</td>\n",
       "      <td>327.75</td>\n",
       "      <td>0</td>\n",
       "      <td>1/18/2018 12:27</td>\n",
       "      <td>Standard Class</td>\n",
       "      <td>2018-01-13 12:27:00</td>\n",
       "      <td>2018-01-18 12:27:00</td>\n",
       "      <td>2018</td>\n",
       "      <td>1</td>\n",
       "      <td>13</td>\n",
       "      <td>2018</td>\n",
       "      <td>1</td>\n",
       "      <td>18</td>\n",
       "    </tr>\n",
       "    <tr>\n",
       "      <th>2</th>\n",
       "      <td>CASH</td>\n",
       "      <td>4</td>\n",
       "      <td>4</td>\n",
       "      <td>-247.779999</td>\n",
       "      <td>309.720001</td>\n",
       "      <td>Shipping on time</td>\n",
       "      <td>0</td>\n",
       "      <td>73</td>\n",
       "      <td>Sporting Goods</td>\n",
       "      <td>San Jose</td>\n",
       "      <td>EE. UU.</td>\n",
       "      <td>XXXXXXXXX</td>\n",
       "      <td>Gillian</td>\n",
       "      <td>19491</td>\n",
       "      <td>Maldonado</td>\n",
       "      <td>XXXXXXXXX</td>\n",
       "      <td>Consumer</td>\n",
       "      <td>CA</td>\n",
       "      <td>8510 Round Bear Gate</td>\n",
       "      <td>95125.0</td>\n",
       "      <td>2</td>\n",
       "      <td>Fitness</td>\n",
       "      <td>37.292233</td>\n",
       "      <td>-121.881279</td>\n",
       "      <td>Pacific Asia</td>\n",
       "      <td>Bikaner</td>\n",
       "      <td>India</td>\n",
       "      <td>19491</td>\n",
       "      <td>1/13/2018 12:06</td>\n",
       "      <td>75938</td>\n",
       "      <td>1360</td>\n",
       "      <td>18.030001</td>\n",
       "      <td>0.06</td>\n",
       "      <td>179253</td>\n",
       "      <td>327.75</td>\n",
       "      <td>-0.80</td>\n",
       "      <td>1</td>\n",
       "      <td>327.75</td>\n",
       "      <td>309.720001</td>\n",
       "      <td>-247.779999</td>\n",
       "      <td>South Asia</td>\n",
       "      <td>Rajastán</td>\n",
       "      <td>CLOSED</td>\n",
       "      <td>NaN</td>\n",
       "      <td>1360</td>\n",
       "      <td>73</td>\n",
       "      <td>NaN</td>\n",
       "      <td>http://images.acmesports.sports/Smart+watch</td>\n",
       "      <td>Smart watch</td>\n",
       "      <td>327.75</td>\n",
       "      <td>0</td>\n",
       "      <td>1/17/2018 12:06</td>\n",
       "      <td>Standard Class</td>\n",
       "      <td>2018-01-13 12:06:00</td>\n",
       "      <td>2018-01-17 12:06:00</td>\n",
       "      <td>2018</td>\n",
       "      <td>1</td>\n",
       "      <td>13</td>\n",
       "      <td>2018</td>\n",
       "      <td>1</td>\n",
       "      <td>17</td>\n",
       "    </tr>\n",
       "    <tr>\n",
       "      <th>3</th>\n",
       "      <td>DEBIT</td>\n",
       "      <td>3</td>\n",
       "      <td>4</td>\n",
       "      <td>22.860001</td>\n",
       "      <td>304.809998</td>\n",
       "      <td>Advance shipping</td>\n",
       "      <td>0</td>\n",
       "      <td>73</td>\n",
       "      <td>Sporting Goods</td>\n",
       "      <td>Los Angeles</td>\n",
       "      <td>EE. UU.</td>\n",
       "      <td>XXXXXXXXX</td>\n",
       "      <td>Tana</td>\n",
       "      <td>19490</td>\n",
       "      <td>Tate</td>\n",
       "      <td>XXXXXXXXX</td>\n",
       "      <td>Home Office</td>\n",
       "      <td>CA</td>\n",
       "      <td>3200 Amber Bend</td>\n",
       "      <td>90027.0</td>\n",
       "      <td>2</td>\n",
       "      <td>Fitness</td>\n",
       "      <td>34.125946</td>\n",
       "      <td>-118.291016</td>\n",
       "      <td>Pacific Asia</td>\n",
       "      <td>Townsville</td>\n",
       "      <td>Australia</td>\n",
       "      <td>19490</td>\n",
       "      <td>1/13/2018 11:45</td>\n",
       "      <td>75937</td>\n",
       "      <td>1360</td>\n",
       "      <td>22.940001</td>\n",
       "      <td>0.07</td>\n",
       "      <td>179252</td>\n",
       "      <td>327.75</td>\n",
       "      <td>0.08</td>\n",
       "      <td>1</td>\n",
       "      <td>327.75</td>\n",
       "      <td>304.809998</td>\n",
       "      <td>22.860001</td>\n",
       "      <td>Oceania</td>\n",
       "      <td>Queensland</td>\n",
       "      <td>COMPLETE</td>\n",
       "      <td>NaN</td>\n",
       "      <td>1360</td>\n",
       "      <td>73</td>\n",
       "      <td>NaN</td>\n",
       "      <td>http://images.acmesports.sports/Smart+watch</td>\n",
       "      <td>Smart watch</td>\n",
       "      <td>327.75</td>\n",
       "      <td>0</td>\n",
       "      <td>1/16/2018 11:45</td>\n",
       "      <td>Standard Class</td>\n",
       "      <td>2018-01-13 11:45:00</td>\n",
       "      <td>2018-01-16 11:45:00</td>\n",
       "      <td>2018</td>\n",
       "      <td>1</td>\n",
       "      <td>13</td>\n",
       "      <td>2018</td>\n",
       "      <td>1</td>\n",
       "      <td>16</td>\n",
       "    </tr>\n",
       "    <tr>\n",
       "      <th>4</th>\n",
       "      <td>PAYMENT</td>\n",
       "      <td>2</td>\n",
       "      <td>4</td>\n",
       "      <td>134.210007</td>\n",
       "      <td>298.250000</td>\n",
       "      <td>Advance shipping</td>\n",
       "      <td>0</td>\n",
       "      <td>73</td>\n",
       "      <td>Sporting Goods</td>\n",
       "      <td>Caguas</td>\n",
       "      <td>Puerto Rico</td>\n",
       "      <td>XXXXXXXXX</td>\n",
       "      <td>Orli</td>\n",
       "      <td>19489</td>\n",
       "      <td>Hendricks</td>\n",
       "      <td>XXXXXXXXX</td>\n",
       "      <td>Corporate</td>\n",
       "      <td>PR</td>\n",
       "      <td>8671 Iron Anchor Corners</td>\n",
       "      <td>725.0</td>\n",
       "      <td>2</td>\n",
       "      <td>Fitness</td>\n",
       "      <td>18.253769</td>\n",
       "      <td>-66.037048</td>\n",
       "      <td>Pacific Asia</td>\n",
       "      <td>Townsville</td>\n",
       "      <td>Australia</td>\n",
       "      <td>19489</td>\n",
       "      <td>1/13/2018 11:24</td>\n",
       "      <td>75936</td>\n",
       "      <td>1360</td>\n",
       "      <td>29.500000</td>\n",
       "      <td>0.09</td>\n",
       "      <td>179251</td>\n",
       "      <td>327.75</td>\n",
       "      <td>0.45</td>\n",
       "      <td>1</td>\n",
       "      <td>327.75</td>\n",
       "      <td>298.250000</td>\n",
       "      <td>134.210007</td>\n",
       "      <td>Oceania</td>\n",
       "      <td>Queensland</td>\n",
       "      <td>PENDING_PAYMENT</td>\n",
       "      <td>NaN</td>\n",
       "      <td>1360</td>\n",
       "      <td>73</td>\n",
       "      <td>NaN</td>\n",
       "      <td>http://images.acmesports.sports/Smart+watch</td>\n",
       "      <td>Smart watch</td>\n",
       "      <td>327.75</td>\n",
       "      <td>0</td>\n",
       "      <td>1/15/2018 11:24</td>\n",
       "      <td>Standard Class</td>\n",
       "      <td>2018-01-13 11:24:00</td>\n",
       "      <td>2018-01-15 11:24:00</td>\n",
       "      <td>2018</td>\n",
       "      <td>1</td>\n",
       "      <td>13</td>\n",
       "      <td>2018</td>\n",
       "      <td>1</td>\n",
       "      <td>15</td>\n",
       "    </tr>\n",
       "  </tbody>\n",
       "</table>\n",
       "</div>"
      ],
      "text/plain": [
       "       Type  Days for shipping (real)  Days for shipment (scheduled)  \\\n",
       "0     DEBIT                         3                              4   \n",
       "1  TRANSFER                         5                              4   \n",
       "2      CASH                         4                              4   \n",
       "3     DEBIT                         3                              4   \n",
       "4   PAYMENT                         2                              4   \n",
       "\n",
       "   Benefit per order  Sales per customer   Delivery Status  \\\n",
       "0          91.250000          314.640015  Advance shipping   \n",
       "1        -249.089996          311.359985     Late delivery   \n",
       "2        -247.779999          309.720001  Shipping on time   \n",
       "3          22.860001          304.809998  Advance shipping   \n",
       "4         134.210007          298.250000  Advance shipping   \n",
       "\n",
       "   Late_delivery_risk  Category Id   Category Name Customer City  \\\n",
       "0                   0           73  Sporting Goods        Caguas   \n",
       "1                   1           73  Sporting Goods        Caguas   \n",
       "2                   0           73  Sporting Goods      San Jose   \n",
       "3                   0           73  Sporting Goods   Los Angeles   \n",
       "4                   0           73  Sporting Goods        Caguas   \n",
       "\n",
       "  Customer Country Customer Email Customer Fname  Customer Id Customer Lname  \\\n",
       "0      Puerto Rico      XXXXXXXXX          Cally        20755       Holloway   \n",
       "1      Puerto Rico      XXXXXXXXX          Irene        19492           Luna   \n",
       "2          EE. UU.      XXXXXXXXX        Gillian        19491      Maldonado   \n",
       "3          EE. UU.      XXXXXXXXX           Tana        19490           Tate   \n",
       "4      Puerto Rico      XXXXXXXXX           Orli        19489      Hendricks   \n",
       "\n",
       "  Customer Password Customer Segment Customer State           Customer Street  \\\n",
       "0         XXXXXXXXX         Consumer             PR  5365 Noble Nectar Island   \n",
       "1         XXXXXXXXX         Consumer             PR          2679 Rustic Loop   \n",
       "2         XXXXXXXXX         Consumer             CA      8510 Round Bear Gate   \n",
       "3         XXXXXXXXX      Home Office             CA           3200 Amber Bend   \n",
       "4         XXXXXXXXX        Corporate             PR  8671 Iron Anchor Corners   \n",
       "\n",
       "   Customer Zipcode  Department Id Department Name   Latitude   Longitude  \\\n",
       "0             725.0              2         Fitness  18.251453  -66.037056   \n",
       "1             725.0              2         Fitness  18.279451  -66.037064   \n",
       "2           95125.0              2         Fitness  37.292233 -121.881279   \n",
       "3           90027.0              2         Fitness  34.125946 -118.291016   \n",
       "4             725.0              2         Fitness  18.253769  -66.037048   \n",
       "\n",
       "         Market  Order City Order Country  Order Customer Id  \\\n",
       "0  Pacific Asia      Bekasi     Indonesia              20755   \n",
       "1  Pacific Asia     Bikaner         India              19492   \n",
       "2  Pacific Asia     Bikaner         India              19491   \n",
       "3  Pacific Asia  Townsville     Australia              19490   \n",
       "4  Pacific Asia  Townsville     Australia              19489   \n",
       "\n",
       "  order date (DateOrders)  Order Id  Order Item Cardprod Id  \\\n",
       "0         1/31/2018 22:56     77202                    1360   \n",
       "1         1/13/2018 12:27     75939                    1360   \n",
       "2         1/13/2018 12:06     75938                    1360   \n",
       "3         1/13/2018 11:45     75937                    1360   \n",
       "4         1/13/2018 11:24     75936                    1360   \n",
       "\n",
       "   Order Item Discount  Order Item Discount Rate  Order Item Id  \\\n",
       "0            13.110000                      0.04         180517   \n",
       "1            16.389999                      0.05         179254   \n",
       "2            18.030001                      0.06         179253   \n",
       "3            22.940001                      0.07         179252   \n",
       "4            29.500000                      0.09         179251   \n",
       "\n",
       "   Order Item Product Price  Order Item Profit Ratio  Order Item Quantity  \\\n",
       "0                    327.75                     0.29                    1   \n",
       "1                    327.75                    -0.80                    1   \n",
       "2                    327.75                    -0.80                    1   \n",
       "3                    327.75                     0.08                    1   \n",
       "4                    327.75                     0.45                    1   \n",
       "\n",
       "    Sales  Order Item Total  Order Profit Per Order    Order Region  \\\n",
       "0  327.75        314.640015               91.250000  Southeast Asia   \n",
       "1  327.75        311.359985             -249.089996      South Asia   \n",
       "2  327.75        309.720001             -247.779999      South Asia   \n",
       "3  327.75        304.809998               22.860001         Oceania   \n",
       "4  327.75        298.250000              134.210007         Oceania   \n",
       "\n",
       "       Order State     Order Status  Order Zipcode  Product Card Id  \\\n",
       "0  Java Occidental         COMPLETE            NaN             1360   \n",
       "1         Rajastán          PENDING            NaN             1360   \n",
       "2         Rajastán           CLOSED            NaN             1360   \n",
       "3       Queensland         COMPLETE            NaN             1360   \n",
       "4       Queensland  PENDING_PAYMENT            NaN             1360   \n",
       "\n",
       "   Product Category Id  Product Description  \\\n",
       "0                   73                  NaN   \n",
       "1                   73                  NaN   \n",
       "2                   73                  NaN   \n",
       "3                   73                  NaN   \n",
       "4                   73                  NaN   \n",
       "\n",
       "                                  Product Image  Product Name  Product Price  \\\n",
       "0  http://images.acmesports.sports/Smart+watch   Smart watch          327.75   \n",
       "1  http://images.acmesports.sports/Smart+watch   Smart watch          327.75   \n",
       "2  http://images.acmesports.sports/Smart+watch   Smart watch          327.75   \n",
       "3  http://images.acmesports.sports/Smart+watch   Smart watch          327.75   \n",
       "4  http://images.acmesports.sports/Smart+watch   Smart watch          327.75   \n",
       "\n",
       "   Product Status shipping date (DateOrders)   Shipping Mode  \\\n",
       "0               0             2/3/2018 22:56  Standard Class   \n",
       "1               0            1/18/2018 12:27  Standard Class   \n",
       "2               0            1/17/2018 12:06  Standard Class   \n",
       "3               0            1/16/2018 11:45  Standard Class   \n",
       "4               0            1/15/2018 11:24  Standard Class   \n",
       "\n",
       "           order_date       shipping_date  order_year  order_month  order_day  \\\n",
       "0 2018-01-31 22:56:00 2018-02-03 22:56:00        2018            1         31   \n",
       "1 2018-01-13 12:27:00 2018-01-18 12:27:00        2018            1         13   \n",
       "2 2018-01-13 12:06:00 2018-01-17 12:06:00        2018            1         13   \n",
       "3 2018-01-13 11:45:00 2018-01-16 11:45:00        2018            1         13   \n",
       "4 2018-01-13 11:24:00 2018-01-15 11:24:00        2018            1         13   \n",
       "\n",
       "   shipping_year  shipping_month  shipping_day  \n",
       "0           2018               2             3  \n",
       "1           2018               1            18  \n",
       "2           2018               1            17  \n",
       "3           2018               1            16  \n",
       "4           2018               1            15  "
      ]
     },
     "execution_count": 22,
     "metadata": {},
     "output_type": "execute_result"
    }
   ],
   "source": [
    "data.head()"
   ]
  },
  {
   "cell_type": "code",
   "execution_count": 23,
   "metadata": {
    "execution": {
     "iopub.execute_input": "2023-09-05T22:53:45.719827Z",
     "iopub.status.busy": "2023-09-05T22:53:45.718820Z",
     "iopub.status.idle": "2023-09-05T22:53:45.723517Z",
     "shell.execute_reply": "2023-09-05T22:53:45.722892Z",
     "shell.execute_reply.started": "2023-09-05T19:18:23.211108Z"
    },
    "papermill": {
     "duration": 0.041066,
     "end_time": "2023-09-05T22:53:45.723646",
     "exception": false,
     "start_time": "2023-09-05T22:53:45.682580",
     "status": "completed"
    },
    "tags": []
   },
   "outputs": [
    {
     "data": {
      "text/plain": [
       "(180519, 61)"
      ]
     },
     "execution_count": 23,
     "metadata": {},
     "output_type": "execute_result"
    }
   ],
   "source": [
    "data.shape"
   ]
  },
  {
   "cell_type": "code",
   "execution_count": 24,
   "metadata": {
    "execution": {
     "iopub.execute_input": "2023-09-05T22:53:45.790619Z",
     "iopub.status.busy": "2023-09-05T22:53:45.789474Z",
     "iopub.status.idle": "2023-09-05T22:53:45.792892Z",
     "shell.execute_reply": "2023-09-05T22:53:45.792137Z",
     "shell.execute_reply.started": "2023-09-05T19:18:27.526351Z"
    },
    "papermill": {
     "duration": 0.038515,
     "end_time": "2023-09-05T22:53:45.793033",
     "exception": false,
     "start_time": "2023-09-05T22:53:45.754518",
     "status": "completed"
    },
    "tags": []
   },
   "outputs": [],
   "source": [
    "# Getting rid of irrelevant and redundant features"
   ]
  },
  {
   "cell_type": "code",
   "execution_count": 25,
   "metadata": {
    "execution": {
     "iopub.execute_input": "2023-09-05T22:53:45.862779Z",
     "iopub.status.busy": "2023-09-05T22:53:45.861696Z",
     "iopub.status.idle": "2023-09-05T22:53:45.866591Z",
     "shell.execute_reply": "2023-09-05T22:53:45.865868Z",
     "shell.execute_reply.started": "2023-09-05T19:19:14.452944Z"
    },
    "papermill": {
     "duration": 0.042914,
     "end_time": "2023-09-05T22:53:45.866749",
     "exception": false,
     "start_time": "2023-09-05T22:53:45.823835",
     "status": "completed"
    },
    "tags": []
   },
   "outputs": [
    {
     "data": {
      "text/plain": [
       "21"
      ]
     },
     "execution_count": 25,
     "metadata": {},
     "output_type": "execute_result"
    }
   ],
   "source": [
    "new_dataset_features = ['Type','Days for shipping (real)','Days for shipment (scheduled)','Late_delivery_risk','Benefit per order',\n",
    "                        'Sales per customer','Latitude','Longitude','Shipping Mode','Order Status','Order Region',\n",
    "                        'Order Country','Order City','Market','Delivery Status','order_day','order_month','order_year',\n",
    "                        'shipping_day','shipping_month','shipping_year']\n",
    "len(new_dataset_features)"
   ]
  },
  {
   "cell_type": "code",
   "execution_count": 26,
   "metadata": {
    "execution": {
     "iopub.execute_input": "2023-09-05T22:53:45.936272Z",
     "iopub.status.busy": "2023-09-05T22:53:45.934712Z",
     "iopub.status.idle": "2023-09-05T22:53:46.001827Z",
     "shell.execute_reply": "2023-09-05T22:53:46.001051Z",
     "shell.execute_reply.started": "2023-09-05T19:19:17.814781Z"
    },
    "papermill": {
     "duration": 0.104299,
     "end_time": "2023-09-05T22:53:46.001962",
     "exception": false,
     "start_time": "2023-09-05T22:53:45.897663",
     "status": "completed"
    },
    "tags": []
   },
   "outputs": [
    {
     "data": {
      "text/html": [
       "<div>\n",
       "<style scoped>\n",
       "    .dataframe tbody tr th:only-of-type {\n",
       "        vertical-align: middle;\n",
       "    }\n",
       "\n",
       "    .dataframe tbody tr th {\n",
       "        vertical-align: top;\n",
       "    }\n",
       "\n",
       "    .dataframe thead th {\n",
       "        text-align: right;\n",
       "    }\n",
       "</style>\n",
       "<table border=\"1\" class=\"dataframe\">\n",
       "  <thead>\n",
       "    <tr style=\"text-align: right;\">\n",
       "      <th></th>\n",
       "      <th>Type</th>\n",
       "      <th>Days for shipping (real)</th>\n",
       "      <th>Days for shipment (scheduled)</th>\n",
       "      <th>Late_delivery_risk</th>\n",
       "      <th>Benefit per order</th>\n",
       "      <th>Sales per customer</th>\n",
       "      <th>Latitude</th>\n",
       "      <th>Longitude</th>\n",
       "      <th>Shipping Mode</th>\n",
       "      <th>Order Status</th>\n",
       "      <th>Order Region</th>\n",
       "      <th>Order Country</th>\n",
       "      <th>Order City</th>\n",
       "      <th>Market</th>\n",
       "      <th>Delivery Status</th>\n",
       "      <th>order_day</th>\n",
       "      <th>order_month</th>\n",
       "      <th>order_year</th>\n",
       "      <th>shipping_day</th>\n",
       "      <th>shipping_month</th>\n",
       "      <th>shipping_year</th>\n",
       "    </tr>\n",
       "  </thead>\n",
       "  <tbody>\n",
       "    <tr>\n",
       "      <th>0</th>\n",
       "      <td>DEBIT</td>\n",
       "      <td>3</td>\n",
       "      <td>4</td>\n",
       "      <td>0</td>\n",
       "      <td>91.250000</td>\n",
       "      <td>314.640015</td>\n",
       "      <td>18.251453</td>\n",
       "      <td>-66.037056</td>\n",
       "      <td>Standard Class</td>\n",
       "      <td>COMPLETE</td>\n",
       "      <td>Southeast Asia</td>\n",
       "      <td>Indonesia</td>\n",
       "      <td>Bekasi</td>\n",
       "      <td>Pacific Asia</td>\n",
       "      <td>Advance shipping</td>\n",
       "      <td>31</td>\n",
       "      <td>1</td>\n",
       "      <td>2018</td>\n",
       "      <td>3</td>\n",
       "      <td>2</td>\n",
       "      <td>2018</td>\n",
       "    </tr>\n",
       "    <tr>\n",
       "      <th>1</th>\n",
       "      <td>TRANSFER</td>\n",
       "      <td>5</td>\n",
       "      <td>4</td>\n",
       "      <td>1</td>\n",
       "      <td>-249.089996</td>\n",
       "      <td>311.359985</td>\n",
       "      <td>18.279451</td>\n",
       "      <td>-66.037064</td>\n",
       "      <td>Standard Class</td>\n",
       "      <td>PENDING</td>\n",
       "      <td>South Asia</td>\n",
       "      <td>India</td>\n",
       "      <td>Bikaner</td>\n",
       "      <td>Pacific Asia</td>\n",
       "      <td>Late delivery</td>\n",
       "      <td>13</td>\n",
       "      <td>1</td>\n",
       "      <td>2018</td>\n",
       "      <td>18</td>\n",
       "      <td>1</td>\n",
       "      <td>2018</td>\n",
       "    </tr>\n",
       "    <tr>\n",
       "      <th>2</th>\n",
       "      <td>CASH</td>\n",
       "      <td>4</td>\n",
       "      <td>4</td>\n",
       "      <td>0</td>\n",
       "      <td>-247.779999</td>\n",
       "      <td>309.720001</td>\n",
       "      <td>37.292233</td>\n",
       "      <td>-121.881279</td>\n",
       "      <td>Standard Class</td>\n",
       "      <td>CLOSED</td>\n",
       "      <td>South Asia</td>\n",
       "      <td>India</td>\n",
       "      <td>Bikaner</td>\n",
       "      <td>Pacific Asia</td>\n",
       "      <td>Shipping on time</td>\n",
       "      <td>13</td>\n",
       "      <td>1</td>\n",
       "      <td>2018</td>\n",
       "      <td>17</td>\n",
       "      <td>1</td>\n",
       "      <td>2018</td>\n",
       "    </tr>\n",
       "    <tr>\n",
       "      <th>3</th>\n",
       "      <td>DEBIT</td>\n",
       "      <td>3</td>\n",
       "      <td>4</td>\n",
       "      <td>0</td>\n",
       "      <td>22.860001</td>\n",
       "      <td>304.809998</td>\n",
       "      <td>34.125946</td>\n",
       "      <td>-118.291016</td>\n",
       "      <td>Standard Class</td>\n",
       "      <td>COMPLETE</td>\n",
       "      <td>Oceania</td>\n",
       "      <td>Australia</td>\n",
       "      <td>Townsville</td>\n",
       "      <td>Pacific Asia</td>\n",
       "      <td>Advance shipping</td>\n",
       "      <td>13</td>\n",
       "      <td>1</td>\n",
       "      <td>2018</td>\n",
       "      <td>16</td>\n",
       "      <td>1</td>\n",
       "      <td>2018</td>\n",
       "    </tr>\n",
       "    <tr>\n",
       "      <th>4</th>\n",
       "      <td>PAYMENT</td>\n",
       "      <td>2</td>\n",
       "      <td>4</td>\n",
       "      <td>0</td>\n",
       "      <td>134.210007</td>\n",
       "      <td>298.250000</td>\n",
       "      <td>18.253769</td>\n",
       "      <td>-66.037048</td>\n",
       "      <td>Standard Class</td>\n",
       "      <td>PENDING_PAYMENT</td>\n",
       "      <td>Oceania</td>\n",
       "      <td>Australia</td>\n",
       "      <td>Townsville</td>\n",
       "      <td>Pacific Asia</td>\n",
       "      <td>Advance shipping</td>\n",
       "      <td>13</td>\n",
       "      <td>1</td>\n",
       "      <td>2018</td>\n",
       "      <td>15</td>\n",
       "      <td>1</td>\n",
       "      <td>2018</td>\n",
       "    </tr>\n",
       "  </tbody>\n",
       "</table>\n",
       "</div>"
      ],
      "text/plain": [
       "       Type  Days for shipping (real)  Days for shipment (scheduled)  \\\n",
       "0     DEBIT                         3                              4   \n",
       "1  TRANSFER                         5                              4   \n",
       "2      CASH                         4                              4   \n",
       "3     DEBIT                         3                              4   \n",
       "4   PAYMENT                         2                              4   \n",
       "\n",
       "   Late_delivery_risk  Benefit per order  Sales per customer   Latitude  \\\n",
       "0                   0          91.250000          314.640015  18.251453   \n",
       "1                   1        -249.089996          311.359985  18.279451   \n",
       "2                   0        -247.779999          309.720001  37.292233   \n",
       "3                   0          22.860001          304.809998  34.125946   \n",
       "4                   0         134.210007          298.250000  18.253769   \n",
       "\n",
       "    Longitude   Shipping Mode     Order Status    Order Region Order Country  \\\n",
       "0  -66.037056  Standard Class         COMPLETE  Southeast Asia     Indonesia   \n",
       "1  -66.037064  Standard Class          PENDING      South Asia         India   \n",
       "2 -121.881279  Standard Class           CLOSED      South Asia         India   \n",
       "3 -118.291016  Standard Class         COMPLETE         Oceania     Australia   \n",
       "4  -66.037048  Standard Class  PENDING_PAYMENT         Oceania     Australia   \n",
       "\n",
       "   Order City        Market   Delivery Status  order_day  order_month  \\\n",
       "0      Bekasi  Pacific Asia  Advance shipping         31            1   \n",
       "1     Bikaner  Pacific Asia     Late delivery         13            1   \n",
       "2     Bikaner  Pacific Asia  Shipping on time         13            1   \n",
       "3  Townsville  Pacific Asia  Advance shipping         13            1   \n",
       "4  Townsville  Pacific Asia  Advance shipping         13            1   \n",
       "\n",
       "   order_year  shipping_day  shipping_month  shipping_year  \n",
       "0        2018             3               2           2018  \n",
       "1        2018            18               1           2018  \n",
       "2        2018            17               1           2018  \n",
       "3        2018            16               1           2018  \n",
       "4        2018            15               1           2018  "
      ]
     },
     "execution_count": 26,
     "metadata": {},
     "output_type": "execute_result"
    }
   ],
   "source": [
    "new_data = data[new_dataset_features]\n",
    "model_data = new_data\n",
    "new_data.head()"
   ]
  },
  {
   "cell_type": "code",
   "execution_count": 27,
   "metadata": {
    "execution": {
     "iopub.execute_input": "2023-09-05T22:53:46.086567Z",
     "iopub.status.busy": "2023-09-05T22:53:46.085538Z",
     "iopub.status.idle": "2023-09-05T22:53:46.228047Z",
     "shell.execute_reply": "2023-09-05T22:53:46.228580Z",
     "shell.execute_reply.started": "2023-09-05T19:19:24.351509Z"
    },
    "papermill": {
     "duration": 0.195477,
     "end_time": "2023-09-05T22:53:46.228786",
     "exception": false,
     "start_time": "2023-09-05T22:53:46.033309",
     "status": "completed"
    },
    "tags": []
   },
   "outputs": [
    {
     "name": "stdout",
     "output_type": "stream",
     "text": [
      "Type -> 4\n",
      "Shipping Mode -> 4\n",
      "Order Status -> 9\n",
      "Order Region -> 23\n",
      "Order Country -> 164\n",
      "Order City -> 3597\n",
      "Market -> 5\n",
      "Delivery Status -> 4\n"
     ]
    }
   ],
   "source": [
    "# knowing the number of unique values in categorical columns\n",
    "for f in list(new_data.columns):\n",
    "    if new_data[f].dtypes == 'O':\n",
    "        print(f,\"->\" , new_data[f].nunique())"
   ]
  },
  {
   "cell_type": "code",
   "execution_count": 28,
   "metadata": {
    "execution": {
     "iopub.execute_input": "2023-09-05T22:53:46.299711Z",
     "iopub.status.busy": "2023-09-05T22:53:46.298292Z",
     "iopub.status.idle": "2023-09-05T22:53:49.215975Z",
     "shell.execute_reply": "2023-09-05T22:53:49.215335Z",
     "shell.execute_reply.started": "2023-09-05T19:20:01.063215Z"
    },
    "papermill": {
     "duration": 2.956044,
     "end_time": "2023-09-05T22:53:49.216117",
     "exception": false,
     "start_time": "2023-09-05T22:53:46.260073",
     "status": "completed"
    },
    "tags": []
   },
   "outputs": [
    {
     "data": {
      "text/plain": [
       "(180519, 3815)"
      ]
     },
     "execution_count": 28,
     "metadata": {},
     "output_type": "execute_result"
    }
   ],
   "source": [
    "# One hot encoding categotical variables\n",
    "model_data = pd.get_dummies(model_data, drop_first=True)\n",
    "model_data.shape"
   ]
  },
  {
   "cell_type": "code",
   "execution_count": 29,
   "metadata": {
    "execution": {
     "iopub.execute_input": "2023-09-05T22:53:49.294330Z",
     "iopub.status.busy": "2023-09-05T22:53:49.292486Z",
     "iopub.status.idle": "2023-09-05T22:53:49.869964Z",
     "shell.execute_reply": "2023-09-05T22:53:49.869224Z",
     "shell.execute_reply.started": "2023-09-05T19:20:17.159884Z"
    },
    "papermill": {
     "duration": 0.621945,
     "end_time": "2023-09-05T22:53:49.870092",
     "exception": false,
     "start_time": "2023-09-05T22:53:49.248147",
     "status": "completed"
    },
    "tags": []
   },
   "outputs": [
    {
     "data": {
      "image/png": "[encoded data removed]",
      "text/plain": [
       "<Figure size 2160x1440 with 1 Axes>"
      ]
     },
     "metadata": {
      "needs_background": "light"
     },
     "output_type": "display_data"
    }
   ],
   "source": [
    "boxplot = data.boxplot(column=[f for f in new_data.columns if new_data[f].dtypes!='O'], figsize=(30,20), rot=45)"
   ]
  },
  {
   "cell_type": "code",
   "execution_count": 30,
   "metadata": {
    "execution": {
     "iopub.execute_input": "2023-09-05T22:53:49.944736Z",
     "iopub.status.busy": "2023-09-05T22:53:49.943973Z",
     "iopub.status.idle": "2023-09-05T22:53:49.947157Z",
     "shell.execute_reply": "2023-09-05T22:53:49.946543Z",
     "shell.execute_reply.started": "2023-09-05T19:22:19.705993Z"
    },
    "papermill": {
     "duration": 0.044286,
     "end_time": "2023-09-05T22:53:49.947285",
     "exception": false,
     "start_time": "2023-09-05T22:53:49.902999",
     "status": "completed"
    },
    "tags": []
   },
   "outputs": [],
   "source": [
    "def outlier_data(data: pd.DataFrame, col: str) -> pd.DataFrame:\n",
    "    Q1 = data[col].quantile(0.25)\n",
    "    Q3 = data[col].quantile(0.75)\n",
    "    IQR = Q3 - Q1\n",
    "\n",
    "    lower_bound = Q1 - 1.5*IQR\n",
    "    upper_bound = Q3 + 1.5*IQR\n",
    "\n",
    "    outlier = data[(data[col]<lower_bound)|(data[col]>upper_bound)][[col]]\n",
    "    return outlier"
   ]
  },
  {
   "cell_type": "code",
   "execution_count": 31,
   "metadata": {
    "execution": {
     "iopub.execute_input": "2023-09-05T22:53:50.028017Z",
     "iopub.status.busy": "2023-09-05T22:53:50.026933Z",
     "iopub.status.idle": "2023-09-05T22:53:50.212562Z",
     "shell.execute_reply": "2023-09-05T22:53:50.211966Z",
     "shell.execute_reply.started": "2023-09-05T19:22:21.108807Z"
    },
    "papermill": {
     "duration": 0.23282,
     "end_time": "2023-09-05T22:53:50.212712",
     "exception": false,
     "start_time": "2023-09-05T22:53:49.979892",
     "status": "completed"
    },
    "tags": []
   },
   "outputs": [
    {
     "name": "stdout",
     "output_type": "stream",
     "text": [
      "Column : Number of outiers\n",
      "Days for shipping (real)  :  0\n",
      "Days for shipment (scheduled)  :  0\n",
      "Late_delivery_risk  :  0\n",
      "Benefit per order  :  18942\n",
      "Sales per customer  :  1943\n",
      "Latitude  :  9\n",
      "Longitude  :  1414\n",
      "order_day  :  0\n",
      "order_month  :  0\n",
      "order_year  :  0\n",
      "shipping_day  :  0\n",
      "shipping_month  :  0\n",
      "shipping_year  :  0\n"
     ]
    }
   ],
   "source": [
    "new_num_cols = [f for f in new_data.columns if new_data[f].dtypes!='O']\n",
    "print(\"Column : Number of outiers\")\n",
    "for col in new_num_cols:\n",
    "    print(col,\" : \", len(outlier_data(new_data[new_num_cols], col)))"
   ]
  },
  {
   "cell_type": "code",
   "execution_count": 32,
   "metadata": {
    "execution": {
     "iopub.execute_input": "2023-09-05T22:53:50.290358Z",
     "iopub.status.busy": "2023-09-05T22:53:50.289609Z",
     "iopub.status.idle": "2023-09-05T22:53:50.292772Z",
     "shell.execute_reply": "2023-09-05T22:53:50.293447Z",
     "shell.execute_reply.started": "2023-09-05T19:24:54.294266Z"
    },
    "papermill": {
     "duration": 0.047528,
     "end_time": "2023-09-05T22:53:50.293613",
     "exception": false,
     "start_time": "2023-09-05T22:53:50.246085",
     "status": "completed"
    },
    "tags": []
   },
   "outputs": [],
   "source": [
    "def remove_outlier(data: pd.DataFrame, col: str):\n",
    "    for i in range(len(outlier_data(data, col)[col].unique())): # looping through each outlier value in current column\n",
    "        out_lier_data = outlier_data(data, col)[col].unique() # getting the outlier data values\n",
    "\n",
    "        # checking in case the current column has a outlier or not\n",
    "        out = outlier_data(data, col)[col].unique()[0] if (len(out_lier_data) > 0) else None\n",
    "        if out == None:\n",
    "            continue\n",
    "\n",
    "        index = data[data[col]==out].index.tolist() # get the index of outlier data\n",
    "        data.drop(index, inplace = True)\n",
    "    print(\"Outliers removed...\")"
   ]
  },
  {
   "cell_type": "code",
   "execution_count": 33,
   "metadata": {
    "execution": {
     "iopub.execute_input": "2023-09-05T22:53:50.372167Z",
     "iopub.status.busy": "2023-09-05T22:53:50.371409Z",
     "iopub.status.idle": "2023-09-05T22:57:48.724196Z",
     "shell.execute_reply": "2023-09-05T22:57:48.724880Z",
     "shell.execute_reply.started": "2023-09-05T19:26:14.382986Z"
    },
    "papermill": {
     "duration": 238.397992,
     "end_time": "2023-09-05T22:57:48.725086",
     "exception": false,
     "start_time": "2023-09-05T22:53:50.327094",
     "status": "completed"
    },
    "tags": []
   },
   "outputs": [
    {
     "name": "stdout",
     "output_type": "stream",
     "text": [
      "Days for shipping (real)\n",
      "Outliers removed...\n",
      "Days for shipment (scheduled)\n",
      "Outliers removed...\n",
      "Late_delivery_risk\n",
      "Outliers removed...\n",
      "Benefit per order\n",
      "Outliers removed...\n",
      "Sales per customer\n",
      "Outliers removed...\n",
      "Latitude\n",
      "Outliers removed...\n",
      "Longitude\n",
      "Outliers removed...\n",
      "order_day\n",
      "Outliers removed...\n",
      "order_month\n",
      "Outliers removed...\n",
      "order_year\n",
      "Outliers removed...\n",
      "shipping_day\n",
      "Outliers removed...\n",
      "shipping_month\n",
      "Outliers removed...\n",
      "shipping_year\n",
      "Outliers removed...\n"
     ]
    }
   ],
   "source": [
    "test2 = new_data[new_num_cols].copy()\n",
    "for i, col in enumerate(new_num_cols):\n",
    "    print(col)\n",
    "    remove_outlier(test2, col)"
   ]
  },
  {
   "cell_type": "code",
   "execution_count": 34,
   "metadata": {
    "execution": {
     "iopub.execute_input": "2023-09-05T22:57:48.811636Z",
     "iopub.status.busy": "2023-09-05T22:57:48.810350Z",
     "iopub.status.idle": "2023-09-05T22:57:49.347568Z",
     "shell.execute_reply": "2023-09-05T22:57:49.346202Z",
     "shell.execute_reply.started": "2023-09-05T19:32:06.584257Z"
    },
    "papermill": {
     "duration": 0.589107,
     "end_time": "2023-09-05T22:57:49.347731",
     "exception": false,
     "start_time": "2023-09-05T22:57:48.758624",
     "status": "completed"
    },
    "tags": []
   },
   "outputs": [
    {
     "name": "stdout",
     "output_type": "stream",
     "text": [
      "Days for shipping (real)\n",
      "mean w outlier :  3.497654\n",
      "mean w/o outlier :  3.496317\n",
      "% change in mean after removing outlier :  0.038235 %\n",
      "median w outlier :  3.0\n",
      "median w/o outlier :  3.0\n",
      "% change in median after removing outlier :  0.0 %\n",
      "--------------------------------------------------\n",
      "Days for shipment (scheduled)\n",
      "mean w outlier :  2.931847\n",
      "mean w/o outlier :  2.931937\n",
      "% change in mean after removing outlier :  -0.003084 %\n",
      "median w outlier :  4.0\n",
      "median w/o outlier :  4.0\n",
      "% change in median after removing outlier :  0.0 %\n",
      "--------------------------------------------------\n",
      "Late_delivery_risk\n",
      "mean w outlier :  0.548291\n",
      "mean w/o outlier :  0.547633\n",
      "% change in mean after removing outlier :  0.120022 %\n",
      "median w outlier :  1.0\n",
      "median w/o outlier :  1.0\n",
      "% change in median after removing outlier :  0.0 %\n",
      "--------------------------------------------------\n",
      "Benefit per order\n",
      "mean w outlier :  21.974989\n",
      "mean w/o outlier :  36.92267\n",
      "% change in mean after removing outlier :  -68.021336 %\n",
      "median w outlier :  31.52\n",
      "median w/o outlier :  33.740002\n",
      "% change in median after removing outlier :  -7.043151 %\n",
      "--------------------------------------------------\n",
      "Sales per customer\n",
      "mean w outlier :  183.107609\n",
      "mean w/o outlier :  165.988071\n",
      "% change in mean after removing outlier :  9.349441 %\n",
      "median w outlier :  163.990005\n",
      "median w/o outlier :  149.990005\n",
      "% change in median after removing outlier :  8.537106 %\n",
      "--------------------------------------------------\n",
      "Latitude\n",
      "mean w outlier :  29.719955\n",
      "mean w/o outlier :  29.753594\n",
      "% change in mean after removing outlier :  -0.113189 %\n",
      "median w outlier :  33.144863\n",
      "median w/o outlier :  33.212955\n",
      "% change in median after removing outlier :  -0.205439 %\n",
      "--------------------------------------------------\n",
      "Longitude\n",
      "mean w outlier :  -84.915675\n",
      "mean w/o outlier :  -84.582715\n",
      "% change in mean after removing outlier :  0.392107 %\n",
      "median w outlier :  -76.847908\n",
      "median w/o outlier :  -76.688728\n",
      "% change in median after removing outlier :  0.207136 %\n",
      "--------------------------------------------------\n",
      "order_day\n",
      "mean w outlier :  15.739346\n",
      "mean w/o outlier :  15.708142\n",
      "% change in mean after removing outlier :  0.198256 %\n",
      "median w outlier :  16.0\n",
      "median w/o outlier :  16.0\n",
      "% change in median after removing outlier :  0.0 %\n",
      "--------------------------------------------------\n",
      "order_month\n",
      "mean w outlier :  6.235449\n",
      "mean w/o outlier :  6.201362\n",
      "% change in mean after removing outlier :  0.546667 %\n",
      "median w outlier :  6.0\n",
      "median w/o outlier :  6.0\n",
      "% change in median after removing outlier :  0.0 %\n",
      "--------------------------------------------------\n",
      "order_year\n",
      "mean w outlier :  2015.97115\n",
      "mean w/o outlier :  2015.961686\n",
      "% change in mean after removing outlier :  0.000469 %\n",
      "median w outlier :  2016.0\n",
      "median w/o outlier :  2016.0\n",
      "% change in median after removing outlier :  0.0 %\n",
      "--------------------------------------------------\n",
      "shipping_day\n",
      "mean w outlier :  15.70217\n",
      "mean w/o outlier :  15.694101\n",
      "% change in mean after removing outlier :  0.051388 %\n",
      "median w outlier :  16.0\n",
      "median w/o outlier :  16.0\n",
      "% change in median after removing outlier :  0.0 %\n",
      "--------------------------------------------------\n",
      "shipping_month\n",
      "mean w outlier :  6.252494\n",
      "mean w/o outlier :  6.221654\n",
      "% change in mean after removing outlier :  0.49325 %\n",
      "median w outlier :  6.0\n",
      "median w/o outlier :  6.0\n",
      "% change in median after removing outlier :  0.0 %\n",
      "--------------------------------------------------\n",
      "shipping_year\n",
      "mean w outlier :  2015.979404\n",
      "mean w/o outlier :  2015.969604\n",
      "% change in mean after removing outlier :  0.000486 %\n",
      "median w outlier :  2016.0\n",
      "median w/o outlier :  2016.0\n",
      "% change in median after removing outlier :  0.0 %\n",
      "--------------------------------------------------\n"
     ]
    }
   ],
   "source": [
    "for i, col in enumerate(new_num_cols):\n",
    "    mean_change = round(((new_data[new_num_cols][col].mean()-test2[col].mean())/(new_data[new_num_cols][col].mean()+1e-8))*100, 6)\n",
    "    median_change = round(((new_data[new_num_cols][col].median()-test2[col].median())/(new_data[new_num_cols][col].median()+1e-8))*100, 6)\n",
    "    print(col)\n",
    "    print(\"mean w outlier : \", round(new_data[new_num_cols][col].mean(), 6))\n",
    "    print(\"mean w/o outlier : \", round(test2[col].mean(), 6))\n",
    "    print(\"% change in mean after removing outlier : \", mean_change, \"%\")\n",
    "    print(\"median w outlier : \", round(new_data[new_num_cols][col].median(), 6))\n",
    "    print(\"median w/o outlier : \", round(test2[col].median(), 6))\n",
    "    print(\"% change in median after removing outlier : \", median_change, \"%\")\n",
    "    print('--------------------------------------------------')"
   ]
  },
  {
   "cell_type": "code",
   "execution_count": 35,
   "metadata": {
    "execution": {
     "iopub.execute_input": "2023-09-05T22:57:49.421819Z",
     "iopub.status.busy": "2023-09-05T22:57:49.420767Z",
     "iopub.status.idle": "2023-09-05T22:57:49.423711Z",
     "shell.execute_reply": "2023-09-05T22:57:49.424284Z"
    },
    "papermill": {
     "duration": 0.042373,
     "end_time": "2023-09-05T22:57:49.424454",
     "exception": false,
     "start_time": "2023-09-05T22:57:49.382081",
     "status": "completed"
    },
    "tags": []
   },
   "outputs": [],
   "source": [
    "# 'Benefit per order' column has greatest impact on removing outliers"
   ]
  },
  {
   "cell_type": "markdown",
   "metadata": {
    "papermill": {
     "duration": 0.034116,
     "end_time": "2023-09-05T22:57:49.493091",
     "exception": false,
     "start_time": "2023-09-05T22:57:49.458975",
     "status": "completed"
    },
    "tags": []
   },
   "source": [
    "# 5. Model Building and Evaluation"
   ]
  },
  {
   "cell_type": "markdown",
   "metadata": {
    "papermill": {
     "duration": 0.034641,
     "end_time": "2023-09-05T22:57:49.562711",
     "exception": false,
     "start_time": "2023-09-05T22:57:49.528070",
     "status": "completed"
    },
    "tags": []
   },
   "source": [
    "## 5.1. Predicting fastest and normal shipping time\n",
    "+ **Target features** -> Days for shipping (real), Days for shipment (scheduled)\n",
    "+ **Problem type** -> Multi-output Regression"
   ]
  },
  {
   "cell_type": "code",
   "execution_count": 36,
   "metadata": {
    "execution": {
     "iopub.execute_input": "2023-09-05T22:57:49.640928Z",
     "iopub.status.busy": "2023-09-05T22:57:49.640112Z",
     "iopub.status.idle": "2023-09-05T22:57:51.436068Z",
     "shell.execute_reply": "2023-09-05T22:57:51.435310Z",
     "shell.execute_reply.started": "2023-09-05T19:33:33.802092Z"
    },
    "papermill": {
     "duration": 1.838679,
     "end_time": "2023-09-05T22:57:51.436196",
     "exception": false,
     "start_time": "2023-09-05T22:57:49.597517",
     "status": "completed"
    },
    "tags": []
   },
   "outputs": [
    {
     "name": "stdout",
     "output_type": "stream",
     "text": [
      "(180519, 3813) (180519, 2)\n"
     ]
    }
   ],
   "source": [
    "X = model_data.drop(['Days for shipping (real)','Days for shipment (scheduled)'],axis=1)\n",
    "y = model_data[['Days for shipping (real)','Days for shipment (scheduled)']]\n",
    "print(X.shape, y.shape)"
   ]
  },
  {
   "cell_type": "code",
   "execution_count": 37,
   "metadata": {
    "execution": {
     "iopub.execute_input": "2023-09-05T22:57:51.517033Z",
     "iopub.status.busy": "2023-09-05T22:57:51.515830Z",
     "iopub.status.idle": "2023-09-05T22:57:53.975947Z",
     "shell.execute_reply": "2023-09-05T22:57:53.975099Z",
     "shell.execute_reply.started": "2023-09-05T19:33:42.714532Z"
    },
    "papermill": {
     "duration": 2.505987,
     "end_time": "2023-09-05T22:57:53.976091",
     "exception": false,
     "start_time": "2023-09-05T22:57:51.470104",
     "status": "completed"
    },
    "tags": []
   },
   "outputs": [],
   "source": [
    "# performing train-test split\n",
    "X_train, X_test, y_train, y_test = model_selection.train_test_split(X, y, test_size=0.2, random_state=42)"
   ]
  },
  {
   "cell_type": "code",
   "execution_count": 38,
   "metadata": {
    "execution": {
     "iopub.execute_input": "2023-09-05T22:57:54.093668Z",
     "iopub.status.busy": "2023-09-05T22:57:54.087002Z",
     "iopub.status.idle": "2023-09-05T23:53:36.672335Z",
     "shell.execute_reply": "2023-09-05T23:53:36.670145Z",
     "shell.execute_reply.started": "2023-09-05T19:33:47.549507Z"
    },
    "papermill": {
     "duration": 3342.661436,
     "end_time": "2023-09-05T23:53:36.673121",
     "exception": false,
     "start_time": "2023-09-05T22:57:54.011685",
     "status": "completed"
    },
    "tags": []
   },
   "outputs": [],
   "source": [
    "# No Standard scaling is not required for tree-based algorithms (no need for normalization or standard scaling)\n",
    "\n",
    "model1=DecisionTreeRegressor()\n",
    "model1.fit(X_train,y_train)\n",
    "y_pred1=model1.predict(X_test)\n",
    "\n",
    "model2=RandomForestRegressor()\n",
    "model2.fit(X_train,y_train)\n",
    "y_pred2=model2.predict(X_test)"
   ]
  },
  {
   "cell_type": "code",
   "execution_count": 39,
   "metadata": {
    "execution": {
     "iopub.execute_input": "2023-09-05T23:53:36.762054Z",
     "iopub.status.busy": "2023-09-05T23:53:36.761194Z",
     "iopub.status.idle": "2023-09-05T23:53:36.770700Z",
     "shell.execute_reply": "2023-09-05T23:53:36.771462Z",
     "shell.execute_reply.started": "2023-09-05T20:35:44.847479Z"
    },
    "papermill": {
     "duration": 0.050367,
     "end_time": "2023-09-05T23:53:36.771624",
     "exception": false,
     "start_time": "2023-09-05T23:53:36.721257",
     "status": "completed"
    },
    "tags": []
   },
   "outputs": [
    {
     "data": {
      "text/plain": [
       "array([[5., 4.],\n",
       "       [2., 1.],\n",
       "       [3., 4.],\n",
       "       [5., 4.],\n",
       "       [2., 4.]])"
      ]
     },
     "execution_count": 39,
     "metadata": {},
     "output_type": "execute_result"
    }
   ],
   "source": [
    "y_pred1[:5] # (predicted actual days for shipping, predicted scheduled days for shipping)"
   ]
  },
  {
   "cell_type": "code",
   "execution_count": 40,
   "metadata": {
    "execution": {
     "iopub.execute_input": "2023-09-05T23:53:36.845885Z",
     "iopub.status.busy": "2023-09-05T23:53:36.845017Z",
     "iopub.status.idle": "2023-09-05T23:53:36.850567Z",
     "shell.execute_reply": "2023-09-05T23:53:36.851359Z",
     "shell.execute_reply.started": "2023-09-05T20:35:51.662758Z"
    },
    "papermill": {
     "duration": 0.045015,
     "end_time": "2023-09-05T23:53:36.851529",
     "exception": false,
     "start_time": "2023-09-05T23:53:36.806514",
     "status": "completed"
    },
    "tags": []
   },
   "outputs": [
    {
     "data": {
      "text/plain": [
       "array([[5.09, 4.  ],\n",
       "       [2.  , 1.  ],\n",
       "       [2.28, 4.  ],\n",
       "       [5.04, 4.  ],\n",
       "       [2.08, 4.  ]])"
      ]
     },
     "execution_count": 40,
     "metadata": {},
     "output_type": "execute_result"
    }
   ],
   "source": [
    "y_pred2[:5]"
   ]
  },
  {
   "cell_type": "markdown",
   "metadata": {
    "papermill": {
     "duration": 0.034339,
     "end_time": "2023-09-05T23:53:36.921417",
     "exception": false,
     "start_time": "2023-09-05T23:53:36.887078",
     "status": "completed"
    },
    "tags": []
   },
   "source": [
    "## 5.2. Regression model evaluation"
   ]
  },
  {
   "cell_type": "code",
   "execution_count": 41,
   "metadata": {
    "execution": {
     "iopub.execute_input": "2023-09-05T23:53:37.000516Z",
     "iopub.status.busy": "2023-09-05T23:53:36.999688Z",
     "iopub.status.idle": "2023-09-05T23:53:37.001746Z",
     "shell.execute_reply": "2023-09-05T23:53:37.002364Z",
     "shell.execute_reply.started": "2023-09-05T20:46:08.166861Z"
    },
    "papermill": {
     "duration": 0.045146,
     "end_time": "2023-09-05T23:53:37.002517",
     "exception": false,
     "start_time": "2023-09-05T23:53:36.957371",
     "status": "completed"
    },
    "tags": []
   },
   "outputs": [],
   "source": [
    "def eval(y_test,pred):\n",
    "    r2 =r2_score(y_test,pred)\n",
    "    mse =mean_squared_error(y_test,pred)\n",
    "    mae =mean_absolute_error(y_test,pred)\n",
    "    print('The r2 score of the model is ',r2)\n",
    "    print('The mean squared error is',mse)\n",
    "    print('The mean absolute error is',mae)"
   ]
  },
  {
   "cell_type": "code",
   "execution_count": 42,
   "metadata": {
    "execution": {
     "iopub.execute_input": "2023-09-05T23:53:37.080298Z",
     "iopub.status.busy": "2023-09-05T23:53:37.079549Z",
     "iopub.status.idle": "2023-09-05T23:55:36.938429Z",
     "shell.execute_reply": "2023-09-05T23:55:36.939102Z",
     "shell.execute_reply.started": "2023-09-05T20:48:05.462494Z"
    },
    "papermill": {
     "duration": 119.902493,
     "end_time": "2023-09-05T23:55:36.939298",
     "exception": false,
     "start_time": "2023-09-05T23:53:37.036805",
     "status": "completed"
    },
    "tags": []
   },
   "outputs": [
    {
     "name": "stdout",
     "output_type": "stream",
     "text": [
      "The r2 score of the model is  0.9923242502666381\n",
      "The mean squared error is 0.020233215156215376\n",
      "The mean absolute error is 0.018266674052736537\n",
      "{'fit_time': array([37.04892063, 39.23608088, 40.14608312]), 'score_time': array([1.0804975 , 1.07161355, 1.07825327]), 'test_score': array([0.97125755, 0.98078232, 0.98056962])}\n"
     ]
    }
   ],
   "source": [
    "# Decision Tree\n",
    "eval(y_test,y_pred1)\n",
    "\n",
    "from sklearn.model_selection import cross_validate\n",
    "cv_results1 = cross_validate(model1,X,y,cv=3,scoring=('r2')) # 3 fold cross validation\n",
    "print(cv_results1)"
   ]
  },
  {
   "cell_type": "code",
   "execution_count": 43,
   "metadata": {
    "execution": {
     "iopub.execute_input": "2023-09-05T23:55:37.016410Z",
     "iopub.status.busy": "2023-09-05T23:55:37.015037Z",
     "iopub.status.idle": "2023-09-06T01:50:56.086710Z",
     "shell.execute_reply": "2023-09-06T01:50:56.087518Z"
    },
    "papermill": {
     "duration": 6919.11461,
     "end_time": "2023-09-06T01:50:56.087939",
     "exception": false,
     "start_time": "2023-09-05T23:55:36.973329",
     "status": "completed"
    },
    "tags": []
   },
   "outputs": [
    {
     "name": "stdout",
     "output_type": "stream",
     "text": [
      "The r2 score of the model is  0.9969481056193457\n",
      "The mean squared error is 0.008044769277642822\n",
      "The mean absolute error is 0.030498144249942318\n",
      "{'fit_time': array([2336.88620305, 2379.60162091, 2193.56023526]), 'score_time': array([2.800457  , 3.20499206, 2.85267115]), 'test_score': array([0.99438293, 0.99219703, 0.99147713])}\n"
     ]
    }
   ],
   "source": [
    "# Random Forest\n",
    "eval(y_test,y_pred2)\n",
    "cv_results2 = cross_validate(model2,X,y,cv=3,scoring=('r2'))\n",
    "print(cv_results2) "
   ]
  },
  {
   "cell_type": "markdown",
   "metadata": {
    "papermill": {
     "duration": 0.034623,
     "end_time": "2023-09-06T01:50:56.158118",
     "exception": false,
     "start_time": "2023-09-06T01:50:56.123495",
     "status": "completed"
    },
    "tags": []
   },
   "source": [
    "# 6. Late Delivery Analysis"
   ]
  },
  {
   "cell_type": "code",
   "execution_count": 44,
   "metadata": {
    "execution": {
     "iopub.execute_input": "2023-09-06T01:50:56.235820Z",
     "iopub.status.busy": "2023-09-06T01:50:56.234586Z",
     "iopub.status.idle": "2023-09-06T01:50:56.255385Z",
     "shell.execute_reply": "2023-09-06T01:50:56.256023Z"
    },
    "papermill": {
     "duration": 0.06179,
     "end_time": "2023-09-06T01:50:56.256188",
     "exception": false,
     "start_time": "2023-09-06T01:50:56.194398",
     "status": "completed"
    },
    "tags": []
   },
   "outputs": [
    {
     "data": {
      "text/html": [
       "<div>\n",
       "<style scoped>\n",
       "    .dataframe tbody tr th:only-of-type {\n",
       "        vertical-align: middle;\n",
       "    }\n",
       "\n",
       "    .dataframe tbody tr th {\n",
       "        vertical-align: top;\n",
       "    }\n",
       "\n",
       "    .dataframe thead th {\n",
       "        text-align: right;\n",
       "    }\n",
       "</style>\n",
       "<table border=\"1\" class=\"dataframe\">\n",
       "  <thead>\n",
       "    <tr style=\"text-align: right;\">\n",
       "      <th></th>\n",
       "      <th>Predicted_real_shipment_time</th>\n",
       "      <th>Predicted_scheduled_shipment_time</th>\n",
       "    </tr>\n",
       "  </thead>\n",
       "  <tbody>\n",
       "    <tr>\n",
       "      <th>0</th>\n",
       "      <td>5.0</td>\n",
       "      <td>4.0</td>\n",
       "    </tr>\n",
       "    <tr>\n",
       "      <th>1</th>\n",
       "      <td>2.0</td>\n",
       "      <td>1.0</td>\n",
       "    </tr>\n",
       "    <tr>\n",
       "      <th>2</th>\n",
       "      <td>3.0</td>\n",
       "      <td>4.0</td>\n",
       "    </tr>\n",
       "    <tr>\n",
       "      <th>3</th>\n",
       "      <td>5.0</td>\n",
       "      <td>4.0</td>\n",
       "    </tr>\n",
       "    <tr>\n",
       "      <th>4</th>\n",
       "      <td>2.0</td>\n",
       "      <td>4.0</td>\n",
       "    </tr>\n",
       "  </tbody>\n",
       "</table>\n",
       "</div>"
      ],
      "text/plain": [
       "   Predicted_real_shipment_time  Predicted_scheduled_shipment_time\n",
       "0                           5.0                                4.0\n",
       "1                           2.0                                1.0\n",
       "2                           3.0                                4.0\n",
       "3                           5.0                                4.0\n",
       "4                           2.0                                4.0"
      ]
     },
     "execution_count": 44,
     "metadata": {},
     "output_type": "execute_result"
    }
   ],
   "source": [
    "# Converting the predicted output array to a dataframe\n",
    "Prediction1 = pd.DataFrame(y_pred1)\n",
    "prediction1 = Prediction1.rename(columns={0:'Predicted_real_shipment_time',1:'Predicted_scheduled_shipment_time'})\n",
    "prediction1.head()"
   ]
  },
  {
   "cell_type": "code",
   "execution_count": 45,
   "metadata": {
    "execution": {
     "iopub.execute_input": "2023-09-06T01:50:56.331649Z",
     "iopub.status.busy": "2023-09-06T01:50:56.330523Z",
     "iopub.status.idle": "2023-09-06T01:50:56.344385Z",
     "shell.execute_reply": "2023-09-06T01:50:56.344959Z"
    },
    "papermill": {
     "duration": 0.053146,
     "end_time": "2023-09-06T01:50:56.345132",
     "exception": false,
     "start_time": "2023-09-06T01:50:56.291986",
     "status": "completed"
    },
    "tags": []
   },
   "outputs": [
    {
     "data": {
      "text/html": [
       "<div>\n",
       "<style scoped>\n",
       "    .dataframe tbody tr th:only-of-type {\n",
       "        vertical-align: middle;\n",
       "    }\n",
       "\n",
       "    .dataframe tbody tr th {\n",
       "        vertical-align: top;\n",
       "    }\n",
       "\n",
       "    .dataframe thead th {\n",
       "        text-align: right;\n",
       "    }\n",
       "</style>\n",
       "<table border=\"1\" class=\"dataframe\">\n",
       "  <thead>\n",
       "    <tr style=\"text-align: right;\">\n",
       "      <th></th>\n",
       "      <th>Predicted_real_shipment_time</th>\n",
       "      <th>Predicted_scheduled_shipment_time</th>\n",
       "    </tr>\n",
       "  </thead>\n",
       "  <tbody>\n",
       "    <tr>\n",
       "      <th>0</th>\n",
       "      <td>5.09</td>\n",
       "      <td>4.0</td>\n",
       "    </tr>\n",
       "    <tr>\n",
       "      <th>1</th>\n",
       "      <td>2.00</td>\n",
       "      <td>1.0</td>\n",
       "    </tr>\n",
       "    <tr>\n",
       "      <th>2</th>\n",
       "      <td>2.28</td>\n",
       "      <td>4.0</td>\n",
       "    </tr>\n",
       "    <tr>\n",
       "      <th>3</th>\n",
       "      <td>5.04</td>\n",
       "      <td>4.0</td>\n",
       "    </tr>\n",
       "    <tr>\n",
       "      <th>4</th>\n",
       "      <td>2.08</td>\n",
       "      <td>4.0</td>\n",
       "    </tr>\n",
       "  </tbody>\n",
       "</table>\n",
       "</div>"
      ],
      "text/plain": [
       "   Predicted_real_shipment_time  Predicted_scheduled_shipment_time\n",
       "0                          5.09                                4.0\n",
       "1                          2.00                                1.0\n",
       "2                          2.28                                4.0\n",
       "3                          5.04                                4.0\n",
       "4                          2.08                                4.0"
      ]
     },
     "execution_count": 45,
     "metadata": {},
     "output_type": "execute_result"
    }
   ],
   "source": [
    "Prediction2 = pd.DataFrame(y_pred2)\n",
    "prediction2 = Prediction2.rename(columns={0:'Predicted_real_shipment_time',1:'Predicted_scheduled_shipment_time'})\n",
    "prediction2.head()"
   ]
  },
  {
   "cell_type": "markdown",
   "metadata": {
    "papermill": {
     "duration": 0.035009,
     "end_time": "2023-09-06T01:50:56.415568",
     "exception": false,
     "start_time": "2023-09-06T01:50:56.380559",
     "status": "completed"
    },
    "tags": []
   },
   "source": [
    "The comparison between **Predicted_real_shipment_time** and **Predicted_scheduled_shipment_time** itself makes the prediction of whether the delivery is late or not.\n",
    "+ *Predicted_real_shipment_time* **being less than or equal to** *Predicted_scheduled_shipment_time* implies **No late delivery risk (0)**\n",
    "+ *Predicted_real_shipment_time* **being greater than** *Predicted_scheduled_shipment_time* implies **Late delivery risk (1)**"
   ]
  },
  {
   "cell_type": "code",
   "execution_count": 46,
   "metadata": {
    "execution": {
     "iopub.execute_input": "2023-09-06T01:50:56.490729Z",
     "iopub.status.busy": "2023-09-06T01:50:56.489578Z",
     "iopub.status.idle": "2023-09-06T01:50:56.501010Z",
     "shell.execute_reply": "2023-09-06T01:50:56.501647Z"
    },
    "papermill": {
     "duration": 0.050796,
     "end_time": "2023-09-06T01:50:56.501834",
     "exception": false,
     "start_time": "2023-09-06T01:50:56.451038",
     "status": "completed"
    },
    "tags": []
   },
   "outputs": [],
   "source": [
    "prediction1['Late_risk'] = np.where(prediction1['Predicted_real_shipment_time'] <= prediction1['Predicted_scheduled_shipment_time'],0,1)"
   ]
  },
  {
   "cell_type": "code",
   "execution_count": 47,
   "metadata": {
    "execution": {
     "iopub.execute_input": "2023-09-06T01:50:56.578546Z",
     "iopub.status.busy": "2023-09-06T01:50:56.577417Z",
     "iopub.status.idle": "2023-09-06T01:50:56.584825Z",
     "shell.execute_reply": "2023-09-06T01:50:56.585353Z"
    },
    "papermill": {
     "duration": 0.047622,
     "end_time": "2023-09-06T01:50:56.585534",
     "exception": false,
     "start_time": "2023-09-06T01:50:56.537912",
     "status": "completed"
    },
    "tags": []
   },
   "outputs": [],
   "source": [
    "prediction2['Late_risk'] = np.where(prediction2['Predicted_real_shipment_time'] <= prediction2['Predicted_scheduled_shipment_time'],0,1)"
   ]
  },
  {
   "cell_type": "code",
   "execution_count": 48,
   "metadata": {
    "execution": {
     "iopub.execute_input": "2023-09-06T01:50:56.669371Z",
     "iopub.status.busy": "2023-09-06T01:50:56.668551Z",
     "iopub.status.idle": "2023-09-06T01:50:56.672469Z",
     "shell.execute_reply": "2023-09-06T01:50:56.673117Z"
    },
    "papermill": {
     "duration": 0.051942,
     "end_time": "2023-09-06T01:50:56.673282",
     "exception": false,
     "start_time": "2023-09-06T01:50:56.621340",
     "status": "completed"
    },
    "tags": []
   },
   "outputs": [
    {
     "data": {
      "text/html": [
       "<div>\n",
       "<style scoped>\n",
       "    .dataframe tbody tr th:only-of-type {\n",
       "        vertical-align: middle;\n",
       "    }\n",
       "\n",
       "    .dataframe tbody tr th {\n",
       "        vertical-align: top;\n",
       "    }\n",
       "\n",
       "    .dataframe thead th {\n",
       "        text-align: right;\n",
       "    }\n",
       "</style>\n",
       "<table border=\"1\" class=\"dataframe\">\n",
       "  <thead>\n",
       "    <tr style=\"text-align: right;\">\n",
       "      <th></th>\n",
       "      <th>Predicted_real_shipment_time</th>\n",
       "      <th>Predicted_scheduled_shipment_time</th>\n",
       "      <th>Late_risk</th>\n",
       "    </tr>\n",
       "  </thead>\n",
       "  <tbody>\n",
       "    <tr>\n",
       "      <th>0</th>\n",
       "      <td>5.0</td>\n",
       "      <td>4.0</td>\n",
       "      <td>1</td>\n",
       "    </tr>\n",
       "    <tr>\n",
       "      <th>1</th>\n",
       "      <td>2.0</td>\n",
       "      <td>1.0</td>\n",
       "      <td>1</td>\n",
       "    </tr>\n",
       "    <tr>\n",
       "      <th>2</th>\n",
       "      <td>3.0</td>\n",
       "      <td>4.0</td>\n",
       "      <td>0</td>\n",
       "    </tr>\n",
       "    <tr>\n",
       "      <th>3</th>\n",
       "      <td>5.0</td>\n",
       "      <td>4.0</td>\n",
       "      <td>1</td>\n",
       "    </tr>\n",
       "    <tr>\n",
       "      <th>4</th>\n",
       "      <td>2.0</td>\n",
       "      <td>4.0</td>\n",
       "      <td>0</td>\n",
       "    </tr>\n",
       "  </tbody>\n",
       "</table>\n",
       "</div>"
      ],
      "text/plain": [
       "   Predicted_real_shipment_time  Predicted_scheduled_shipment_time  Late_risk\n",
       "0                           5.0                                4.0          1\n",
       "1                           2.0                                1.0          1\n",
       "2                           3.0                                4.0          0\n",
       "3                           5.0                                4.0          1\n",
       "4                           2.0                                4.0          0"
      ]
     },
     "execution_count": 48,
     "metadata": {},
     "output_type": "execute_result"
    }
   ],
   "source": [
    "prediction1.head()"
   ]
  },
  {
   "cell_type": "code",
   "execution_count": 49,
   "metadata": {
    "execution": {
     "iopub.execute_input": "2023-09-06T01:50:56.751658Z",
     "iopub.status.busy": "2023-09-06T01:50:56.750632Z",
     "iopub.status.idle": "2023-09-06T01:50:56.762073Z",
     "shell.execute_reply": "2023-09-06T01:50:56.762711Z"
    },
    "papermill": {
     "duration": 0.052455,
     "end_time": "2023-09-06T01:50:56.762906",
     "exception": false,
     "start_time": "2023-09-06T01:50:56.710451",
     "status": "completed"
    },
    "tags": []
   },
   "outputs": [
    {
     "data": {
      "text/html": [
       "<div>\n",
       "<style scoped>\n",
       "    .dataframe tbody tr th:only-of-type {\n",
       "        vertical-align: middle;\n",
       "    }\n",
       "\n",
       "    .dataframe tbody tr th {\n",
       "        vertical-align: top;\n",
       "    }\n",
       "\n",
       "    .dataframe thead th {\n",
       "        text-align: right;\n",
       "    }\n",
       "</style>\n",
       "<table border=\"1\" class=\"dataframe\">\n",
       "  <thead>\n",
       "    <tr style=\"text-align: right;\">\n",
       "      <th></th>\n",
       "      <th>Predicted_real_shipment_time</th>\n",
       "      <th>Predicted_scheduled_shipment_time</th>\n",
       "      <th>Late_risk</th>\n",
       "    </tr>\n",
       "  </thead>\n",
       "  <tbody>\n",
       "    <tr>\n",
       "      <th>0</th>\n",
       "      <td>5.09</td>\n",
       "      <td>4.0</td>\n",
       "      <td>1</td>\n",
       "    </tr>\n",
       "    <tr>\n",
       "      <th>1</th>\n",
       "      <td>2.00</td>\n",
       "      <td>1.0</td>\n",
       "      <td>1</td>\n",
       "    </tr>\n",
       "    <tr>\n",
       "      <th>2</th>\n",
       "      <td>2.28</td>\n",
       "      <td>4.0</td>\n",
       "      <td>0</td>\n",
       "    </tr>\n",
       "    <tr>\n",
       "      <th>3</th>\n",
       "      <td>5.04</td>\n",
       "      <td>4.0</td>\n",
       "      <td>1</td>\n",
       "    </tr>\n",
       "    <tr>\n",
       "      <th>4</th>\n",
       "      <td>2.08</td>\n",
       "      <td>4.0</td>\n",
       "      <td>0</td>\n",
       "    </tr>\n",
       "  </tbody>\n",
       "</table>\n",
       "</div>"
      ],
      "text/plain": [
       "   Predicted_real_shipment_time  Predicted_scheduled_shipment_time  Late_risk\n",
       "0                          5.09                                4.0          1\n",
       "1                          2.00                                1.0          1\n",
       "2                          2.28                                4.0          0\n",
       "3                          5.04                                4.0          1\n",
       "4                          2.08                                4.0          0"
      ]
     },
     "execution_count": 49,
     "metadata": {},
     "output_type": "execute_result"
    }
   ],
   "source": [
    "prediction2.head()"
   ]
  },
  {
   "cell_type": "markdown",
   "metadata": {
    "papermill": {
     "duration": 0.03574,
     "end_time": "2023-09-06T01:50:56.835332",
     "exception": false,
     "start_time": "2023-09-06T01:50:56.799592",
     "status": "completed"
    },
    "tags": []
   },
   "source": [
    "## Late delivery risk model evaluation"
   ]
  },
  {
   "cell_type": "code",
   "execution_count": 50,
   "metadata": {
    "execution": {
     "iopub.execute_input": "2023-09-06T01:50:56.914066Z",
     "iopub.status.busy": "2023-09-06T01:50:56.913287Z",
     "iopub.status.idle": "2023-09-06T01:50:56.915032Z",
     "shell.execute_reply": "2023-09-06T01:50:56.915771Z"
    },
    "papermill": {
     "duration": 0.044528,
     "end_time": "2023-09-06T01:50:56.915961",
     "exception": false,
     "start_time": "2023-09-06T01:50:56.871433",
     "status": "completed"
    },
    "tags": []
   },
   "outputs": [],
   "source": [
    "pred1 = prediction1['Late_risk']\n",
    "pred2 = prediction2['Late_risk']\n",
    "actual = X_test['Late_delivery_risk']"
   ]
  },
  {
   "cell_type": "code",
   "execution_count": 51,
   "metadata": {
    "execution": {
     "iopub.execute_input": "2023-09-06T01:50:56.992318Z",
     "iopub.status.busy": "2023-09-06T01:50:56.991544Z",
     "iopub.status.idle": "2023-09-06T01:50:57.000047Z",
     "shell.execute_reply": "2023-09-06T01:50:57.000671Z"
    },
    "papermill": {
     "duration": 0.048776,
     "end_time": "2023-09-06T01:50:57.000870",
     "exception": false,
     "start_time": "2023-09-06T01:50:56.952094",
     "status": "completed"
    },
    "tags": []
   },
   "outputs": [],
   "source": [
    "def evaluate_risk_factor(true,pred):\n",
    "    print(\"Accuracy of the risk predictor model: \", accuracy_score(true,pred))\n",
    "    print(\"AUC-ROC score: \",roc_auc_score(true,pred))\n",
    "    print(\"Some key classification metrics:\",\"\\n\")\n",
    "    print(classification_report(true,pred))\n",
    "    ax = plt.subplot()\n",
    "    sns.heatmap(confusion_matrix(true,pred),annot=True,ax=ax)\n",
    "    ax.set_xlabel('Predicted labels')\n",
    "    ax.set_ylabel('True labels')\n",
    "    ax.set_title('Confusion matrix for Risk Delivery classfication')"
   ]
  },
  {
   "cell_type": "code",
   "execution_count": 52,
   "metadata": {
    "execution": {
     "iopub.execute_input": "2023-09-06T01:50:57.079883Z",
     "iopub.status.busy": "2023-09-06T01:50:57.079116Z",
     "iopub.status.idle": "2023-09-06T01:50:57.459084Z",
     "shell.execute_reply": "2023-09-06T01:50:57.458373Z"
    },
    "papermill": {
     "duration": 0.421093,
     "end_time": "2023-09-06T01:50:57.459226",
     "exception": false,
     "start_time": "2023-09-06T01:50:57.038133",
     "status": "completed"
    },
    "tags": []
   },
   "outputs": [
    {
     "name": "stdout",
     "output_type": "stream",
     "text": [
      "Accuracy of the risk predictor model:  0.9748781298471083\n",
      "AUC-ROC score:  0.9721898571165757\n",
      "Some key classification metrics: \n",
      "\n",
      "              precision    recall  f1-score   support\n",
      "\n",
      "           0       1.00      0.94      0.97     16307\n",
      "           1       0.96      1.00      0.98     19797\n",
      "\n",
      "    accuracy                           0.97     36104\n",
      "   macro avg       0.98      0.97      0.97     36104\n",
      "weighted avg       0.98      0.97      0.97     36104\n",
      "\n"
     ]
    },
    {
     "data": {
      "image/png": "[encoded data removed]",
      "text/plain": [
       "<Figure size 432x288 with 2 Axes>"
      ]
     },
     "metadata": {
      "needs_background": "light"
     },
     "output_type": "display_data"
    }
   ],
   "source": [
    "evaluate_risk_factor(actual, pred1)"
   ]
  },
  {
   "cell_type": "code",
   "execution_count": 53,
   "metadata": {
    "execution": {
     "iopub.execute_input": "2023-09-06T01:50:57.540273Z",
     "iopub.status.busy": "2023-09-06T01:50:57.538956Z",
     "iopub.status.idle": "2023-09-06T01:50:57.894184Z",
     "shell.execute_reply": "2023-09-06T01:50:57.893392Z"
    },
    "papermill": {
     "duration": 0.398193,
     "end_time": "2023-09-06T01:50:57.894319",
     "exception": false,
     "start_time": "2023-09-06T01:50:57.496126",
     "status": "completed"
    },
    "tags": []
   },
   "outputs": [
    {
     "name": "stdout",
     "output_type": "stream",
     "text": [
      "Accuracy of the risk predictor model:  0.9693939729669843\n",
      "AUC-ROC score:  0.9661188446679341\n",
      "Some key classification metrics: \n",
      "\n",
      "              precision    recall  f1-score   support\n",
      "\n",
      "           0       1.00      0.93      0.96     16307\n",
      "           1       0.95      1.00      0.97     19797\n",
      "\n",
      "    accuracy                           0.97     36104\n",
      "   macro avg       0.97      0.97      0.97     36104\n",
      "weighted avg       0.97      0.97      0.97     36104\n",
      "\n"
     ]
    },
    {
     "data": {
      "image/png": "[encoded data removed]",
      "text/plain": [
       "<Figure size 432x288 with 2 Axes>"
      ]
     },
     "metadata": {
      "needs_background": "light"
     },
     "output_type": "display_data"
    }
   ],
   "source": [
    "evaluate_risk_factor(actual, pred2)"
   ]
  },
  {
   "cell_type": "code",
   "execution_count": 54,
   "metadata": {
    "execution": {
     "iopub.execute_input": "2023-09-06T01:50:57.976668Z",
     "iopub.status.busy": "2023-09-06T01:50:57.975492Z",
     "iopub.status.idle": "2023-09-06T01:50:58.143412Z",
     "shell.execute_reply": "2023-09-06T01:50:58.142728Z"
    },
    "papermill": {
     "duration": 0.21147,
     "end_time": "2023-09-06T01:50:58.143572",
     "exception": false,
     "start_time": "2023-09-06T01:50:57.932102",
     "status": "completed"
    },
    "tags": []
   },
   "outputs": [
    {
     "data": {
      "text/plain": [
       "Text(0.5, 1.0, 'Predicted Late delivery risks (DT)')"
      ]
     },
     "execution_count": 54,
     "metadata": {},
     "output_type": "execute_result"
    },
    {
     "data": {
      "image/png": "[encoded data removed]",
      "text/plain": [
       "<Figure size 432x288 with 1 Axes>"
      ]
     },
     "metadata": {
      "needs_background": "light"
     },
     "output_type": "display_data"
    }
   ],
   "source": [
    "sns.countplot(x=\"Late_risk\",data=prediction1).set_title(\"Predicted Late delivery risks (DT)\")"
   ]
  },
  {
   "cell_type": "code",
   "execution_count": 55,
   "metadata": {
    "execution": {
     "iopub.execute_input": "2023-09-06T01:50:58.238261Z",
     "iopub.status.busy": "2023-09-06T01:50:58.237123Z",
     "iopub.status.idle": "2023-09-06T01:50:58.397875Z",
     "shell.execute_reply": "2023-09-06T01:50:58.397152Z"
    },
    "papermill": {
     "duration": 0.210876,
     "end_time": "2023-09-06T01:50:58.398012",
     "exception": false,
     "start_time": "2023-09-06T01:50:58.187136",
     "status": "completed"
    },
    "tags": []
   },
   "outputs": [
    {
     "data": {
      "text/plain": [
       "Text(0.5, 1.0, 'Predicted Late delivery risks (RF)')"
      ]
     },
     "execution_count": 55,
     "metadata": {},
     "output_type": "execute_result"
    },
    {
     "data": {
      "image/png": "[encoded data removed]",
      "text/plain": [
       "<Figure size 432x288 with 1 Axes>"
      ]
     },
     "metadata": {
      "needs_background": "light"
     },
     "output_type": "display_data"
    }
   ],
   "source": [
    "sns.countplot(x=\"Late_risk\",data=prediction2).set_title(\"Predicted Late delivery risks (RF)\")"
   ]
  },
  {
   "cell_type": "code",
   "execution_count": 56,
   "metadata": {
    "execution": {
     "iopub.execute_input": "2023-09-06T01:50:58.490416Z",
     "iopub.status.busy": "2023-09-06T01:50:58.487507Z",
     "iopub.status.idle": "2023-09-06T01:50:58.663719Z",
     "shell.execute_reply": "2023-09-06T01:50:58.663056Z"
    },
    "papermill": {
     "duration": 0.222955,
     "end_time": "2023-09-06T01:50:58.663872",
     "exception": false,
     "start_time": "2023-09-06T01:50:58.440917",
     "status": "completed"
    },
    "tags": []
   },
   "outputs": [
    {
     "data": {
      "text/plain": [
       "Text(0.5, 1.0, 'Actual Late delivery risk')"
      ]
     },
     "execution_count": 56,
     "metadata": {},
     "output_type": "execute_result"
    },
    {
     "data": {
      "image/png": "[encoded data removed]",
      "text/plain": [
       "<Figure size 432x288 with 1 Axes>"
      ]
     },
     "metadata": {
      "needs_background": "light"
     },
     "output_type": "display_data"
    }
   ],
   "source": [
    "sns.countplot(x='Late_delivery_risk',data=X_test).set_title('Actual Late delivery risk')"
   ]
  },
  {
   "cell_type": "code",
   "execution_count": null,
   "metadata": {
    "papermill": {
     "duration": 0.039342,
     "end_time": "2023-09-06T01:50:58.743031",
     "exception": false,
     "start_time": "2023-09-06T01:50:58.703689",
     "status": "completed"
    },
    "tags": []
   },
   "outputs": [],
   "source": []
  }
 ],
 "kernelspec": {
  "display_name": "Python 3",
  "language": "python",
  "name": "python3"
 },
 "language_info": {
  "codemirror_mode": {
   "name": "ipython",
   "version": 3
  },
  "file_extension": ".py",
  "mimetype": "text/x-python",
  "name": "python",
  "nbconvert_exporter": "python",
  "pygments_lexer": "ipython3",
  "version": "3.6.4"
 },
 "metadata": {
  "kernelspec": {
   "display_name": "Python 3",
   "language": "python",
   "name": "python3"
  },
  "language_info": {
   "codemirror_mode": {
    "name": "ipython",
    "version": 3
   },
   "file_extension": ".py",
   "mimetype": "text/x-python",
   "name": "python",
   "nbconvert_exporter": "python",
   "pygments_lexer": "ipython3",
   "version": "3.7.6"
  },
  "papermill": {
   "duration": 11068.839534,
   "end_time": "2023-09-06T01:50:58.994472",
   "environment_variables": {},
   "exception": null,
   "input_path": "__notebook__.ipynb",
   "output_path": "__notebook__.ipynb",
   "parameters": {},
   "start_time": "2023-09-05T22:46:30.154938",
   "version": "2.1.0"
  }
 },
 "nbformat": 4,
 "nbformat_minor": 4
}
